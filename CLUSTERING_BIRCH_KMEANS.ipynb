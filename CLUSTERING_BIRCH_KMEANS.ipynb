{
 "cells": [
  {
   "cell_type": "code",
   "execution_count": 2,
   "id": "80c6f93e-8ff3-4363-87e2-54155d9efb08",
   "metadata": {},
   "outputs": [],
   "source": [
    "import numpy as np\n",
    "import pandas as pd\n",
    "import warnings\n",
    "warnings.filterwarnings('ignore')\n"
   ]
  },
  {
   "cell_type": "code",
   "execution_count": 3,
   "id": "bc9e2b36-be96-457f-af31-1886ff1c02af",
   "metadata": {},
   "outputs": [],
   "source": [
    "movies=pd.read_csv('movies.csv')\n",
    "credits= pd.read_csv('credits.csv')"
   ]
  },
  {
   "cell_type": "code",
   "execution_count": 4,
   "id": "d76f8cb6-cdef-4151-8713-734f9c363072",
   "metadata": {},
   "outputs": [
    {
     "data": {
      "text/html": [
       "<div>\n",
       "<style scoped>\n",
       "    .dataframe tbody tr th:only-of-type {\n",
       "        vertical-align: middle;\n",
       "    }\n",
       "\n",
       "    .dataframe tbody tr th {\n",
       "        vertical-align: top;\n",
       "    }\n",
       "\n",
       "    .dataframe thead th {\n",
       "        text-align: right;\n",
       "    }\n",
       "</style>\n",
       "<table border=\"1\" class=\"dataframe\">\n",
       "  <thead>\n",
       "    <tr style=\"text-align: right;\">\n",
       "      <th></th>\n",
       "      <th>budget</th>\n",
       "      <th>genres</th>\n",
       "      <th>homepage</th>\n",
       "      <th>id</th>\n",
       "      <th>keywords</th>\n",
       "      <th>original_language</th>\n",
       "      <th>original_title</th>\n",
       "      <th>overview</th>\n",
       "      <th>popularity</th>\n",
       "      <th>production_companies</th>\n",
       "      <th>production_countries</th>\n",
       "      <th>release_date</th>\n",
       "      <th>revenue</th>\n",
       "      <th>runtime</th>\n",
       "      <th>spoken_languages</th>\n",
       "      <th>status</th>\n",
       "      <th>tagline</th>\n",
       "      <th>title</th>\n",
       "      <th>vote_average</th>\n",
       "      <th>vote_count</th>\n",
       "    </tr>\n",
       "  </thead>\n",
       "  <tbody>\n",
       "    <tr>\n",
       "      <th>0</th>\n",
       "      <td>237000000</td>\n",
       "      <td>[{\"id\": 28, \"name\": \"Action\"}, {\"id\": 12, \"nam...</td>\n",
       "      <td>http://www.avatarmovie.com/</td>\n",
       "      <td>19995</td>\n",
       "      <td>[{\"id\": 1463, \"name\": \"culture clash\"}, {\"id\":...</td>\n",
       "      <td>en</td>\n",
       "      <td>Avatar</td>\n",
       "      <td>In the 22nd century, a paraplegic Marine is di...</td>\n",
       "      <td>150.437577</td>\n",
       "      <td>[{\"name\": \"Ingenious Film Partners\", \"id\": 289...</td>\n",
       "      <td>[{\"iso_3166_1\": \"US\", \"name\": \"United States o...</td>\n",
       "      <td>2009-12-10</td>\n",
       "      <td>2787965087</td>\n",
       "      <td>162.0</td>\n",
       "      <td>[{\"iso_639_1\": \"en\", \"name\": \"English\"}, {\"iso...</td>\n",
       "      <td>Released</td>\n",
       "      <td>Enter the World of Pandora.</td>\n",
       "      <td>Avatar</td>\n",
       "      <td>7.2</td>\n",
       "      <td>11800</td>\n",
       "    </tr>\n",
       "  </tbody>\n",
       "</table>\n",
       "</div>"
      ],
      "text/plain": [
       "      budget                                             genres   \n",
       "0  237000000  [{\"id\": 28, \"name\": \"Action\"}, {\"id\": 12, \"nam...  \\\n",
       "\n",
       "                      homepage     id   \n",
       "0  http://www.avatarmovie.com/  19995  \\\n",
       "\n",
       "                                            keywords original_language   \n",
       "0  [{\"id\": 1463, \"name\": \"culture clash\"}, {\"id\":...                en  \\\n",
       "\n",
       "  original_title                                           overview   \n",
       "0         Avatar  In the 22nd century, a paraplegic Marine is di...  \\\n",
       "\n",
       "   popularity                               production_companies   \n",
       "0  150.437577  [{\"name\": \"Ingenious Film Partners\", \"id\": 289...  \\\n",
       "\n",
       "                                production_countries release_date     revenue   \n",
       "0  [{\"iso_3166_1\": \"US\", \"name\": \"United States o...   2009-12-10  2787965087  \\\n",
       "\n",
       "   runtime                                   spoken_languages    status   \n",
       "0    162.0  [{\"iso_639_1\": \"en\", \"name\": \"English\"}, {\"iso...  Released  \\\n",
       "\n",
       "                       tagline   title  vote_average  vote_count  \n",
       "0  Enter the World of Pandora.  Avatar           7.2       11800  "
      ]
     },
     "execution_count": 4,
     "metadata": {},
     "output_type": "execute_result"
    }
   ],
   "source": [
    "movies.head(1)"
   ]
  },
  {
   "cell_type": "code",
   "execution_count": 5,
   "id": "58be8bf2-1af8-4c7a-ad4d-53924ecc51cc",
   "metadata": {},
   "outputs": [
    {
     "data": {
      "text/html": [
       "<div>\n",
       "<style scoped>\n",
       "    .dataframe tbody tr th:only-of-type {\n",
       "        vertical-align: middle;\n",
       "    }\n",
       "\n",
       "    .dataframe tbody tr th {\n",
       "        vertical-align: top;\n",
       "    }\n",
       "\n",
       "    .dataframe thead th {\n",
       "        text-align: right;\n",
       "    }\n",
       "</style>\n",
       "<table border=\"1\" class=\"dataframe\">\n",
       "  <thead>\n",
       "    <tr style=\"text-align: right;\">\n",
       "      <th></th>\n",
       "      <th>movie_id</th>\n",
       "      <th>title</th>\n",
       "      <th>cast</th>\n",
       "      <th>crew</th>\n",
       "    </tr>\n",
       "  </thead>\n",
       "  <tbody>\n",
       "    <tr>\n",
       "      <th>0</th>\n",
       "      <td>19995</td>\n",
       "      <td>Avatar</td>\n",
       "      <td>[{\"cast_id\": 242, \"character\": \"Jake Sully\", \"...</td>\n",
       "      <td>[{\"credit_id\": \"52fe48009251416c750aca23\", \"de...</td>\n",
       "    </tr>\n",
       "  </tbody>\n",
       "</table>\n",
       "</div>"
      ],
      "text/plain": [
       "   movie_id   title                                               cast   \n",
       "0     19995  Avatar  [{\"cast_id\": 242, \"character\": \"Jake Sully\", \"...  \\\n",
       "\n",
       "                                                crew  \n",
       "0  [{\"credit_id\": \"52fe48009251416c750aca23\", \"de...  "
      ]
     },
     "execution_count": 5,
     "metadata": {},
     "output_type": "execute_result"
    }
   ],
   "source": [
    "#credit.head(1)['crew'].values\n",
    "credits.head(1)\n",
    "#cast: all the actors in the movie\n",
    "#crew: director, writer, editor, producer etc"
   ]
  },
  {
   "cell_type": "markdown",
   "id": "22c4a27b-6a28-41f6-9213-03da6f761d8b",
   "metadata": {},
   "source": [
    "## MERGE THE TWO DATASETS"
   ]
  },
  {
   "cell_type": "code",
   "execution_count": 6,
   "id": "31b9b571-743f-4f82-bd32-5bf79aceead8",
   "metadata": {},
   "outputs": [
    {
     "data": {
      "text/plain": [
       "(4809, 23)"
      ]
     },
     "execution_count": 6,
     "metadata": {},
     "output_type": "execute_result"
    }
   ],
   "source": [
    "#merge the dataframes based on title(any common cloumn)\n",
    "movies.merge(credits, on='title').shape"
   ]
  },
  {
   "cell_type": "code",
   "execution_count": 7,
   "id": "2017e809-1c8f-496f-b746-c1a1e9184051",
   "metadata": {},
   "outputs": [
    {
     "data": {
      "text/plain": [
       "(4803, 4)"
      ]
     },
     "execution_count": 7,
     "metadata": {},
     "output_type": "execute_result"
    }
   ],
   "source": [
    "credits.shape\n",
    "#movies.shape=> (4803, 20)"
   ]
  },
  {
   "cell_type": "code",
   "execution_count": 8,
   "id": "4f6a23e4-87f8-4499-a4b0-f69114bd9400",
   "metadata": {},
   "outputs": [],
   "source": [
    "movies=movies.merge(credits, on='title')"
   ]
  },
  {
   "cell_type": "code",
   "execution_count": 9,
   "id": "8e516bac-4d32-48f5-bc59-501d6b480910",
   "metadata": {},
   "outputs": [
    {
     "data": {
      "text/html": [
       "<div>\n",
       "<style scoped>\n",
       "    .dataframe tbody tr th:only-of-type {\n",
       "        vertical-align: middle;\n",
       "    }\n",
       "\n",
       "    .dataframe tbody tr th {\n",
       "        vertical-align: top;\n",
       "    }\n",
       "\n",
       "    .dataframe thead th {\n",
       "        text-align: right;\n",
       "    }\n",
       "</style>\n",
       "<table border=\"1\" class=\"dataframe\">\n",
       "  <thead>\n",
       "    <tr style=\"text-align: right;\">\n",
       "      <th></th>\n",
       "      <th>budget</th>\n",
       "      <th>genres</th>\n",
       "      <th>homepage</th>\n",
       "      <th>id</th>\n",
       "      <th>keywords</th>\n",
       "      <th>original_language</th>\n",
       "      <th>original_title</th>\n",
       "      <th>overview</th>\n",
       "      <th>popularity</th>\n",
       "      <th>production_companies</th>\n",
       "      <th>...</th>\n",
       "      <th>runtime</th>\n",
       "      <th>spoken_languages</th>\n",
       "      <th>status</th>\n",
       "      <th>tagline</th>\n",
       "      <th>title</th>\n",
       "      <th>vote_average</th>\n",
       "      <th>vote_count</th>\n",
       "      <th>movie_id</th>\n",
       "      <th>cast</th>\n",
       "      <th>crew</th>\n",
       "    </tr>\n",
       "  </thead>\n",
       "  <tbody>\n",
       "    <tr>\n",
       "      <th>0</th>\n",
       "      <td>237000000</td>\n",
       "      <td>[{\"id\": 28, \"name\": \"Action\"}, {\"id\": 12, \"nam...</td>\n",
       "      <td>http://www.avatarmovie.com/</td>\n",
       "      <td>19995</td>\n",
       "      <td>[{\"id\": 1463, \"name\": \"culture clash\"}, {\"id\":...</td>\n",
       "      <td>en</td>\n",
       "      <td>Avatar</td>\n",
       "      <td>In the 22nd century, a paraplegic Marine is di...</td>\n",
       "      <td>150.437577</td>\n",
       "      <td>[{\"name\": \"Ingenious Film Partners\", \"id\": 289...</td>\n",
       "      <td>...</td>\n",
       "      <td>162.0</td>\n",
       "      <td>[{\"iso_639_1\": \"en\", \"name\": \"English\"}, {\"iso...</td>\n",
       "      <td>Released</td>\n",
       "      <td>Enter the World of Pandora.</td>\n",
       "      <td>Avatar</td>\n",
       "      <td>7.2</td>\n",
       "      <td>11800</td>\n",
       "      <td>19995</td>\n",
       "      <td>[{\"cast_id\": 242, \"character\": \"Jake Sully\", \"...</td>\n",
       "      <td>[{\"credit_id\": \"52fe48009251416c750aca23\", \"de...</td>\n",
       "    </tr>\n",
       "  </tbody>\n",
       "</table>\n",
       "<p>1 rows × 23 columns</p>\n",
       "</div>"
      ],
      "text/plain": [
       "      budget                                             genres   \n",
       "0  237000000  [{\"id\": 28, \"name\": \"Action\"}, {\"id\": 12, \"nam...  \\\n",
       "\n",
       "                      homepage     id   \n",
       "0  http://www.avatarmovie.com/  19995  \\\n",
       "\n",
       "                                            keywords original_language   \n",
       "0  [{\"id\": 1463, \"name\": \"culture clash\"}, {\"id\":...                en  \\\n",
       "\n",
       "  original_title                                           overview   \n",
       "0         Avatar  In the 22nd century, a paraplegic Marine is di...  \\\n",
       "\n",
       "   popularity                               production_companies  ... runtime   \n",
       "0  150.437577  [{\"name\": \"Ingenious Film Partners\", \"id\": 289...  ...   162.0  \\\n",
       "\n",
       "                                    spoken_languages    status   \n",
       "0  [{\"iso_639_1\": \"en\", \"name\": \"English\"}, {\"iso...  Released  \\\n",
       "\n",
       "                       tagline   title vote_average vote_count movie_id   \n",
       "0  Enter the World of Pandora.  Avatar          7.2      11800    19995  \\\n",
       "\n",
       "                                                cast   \n",
       "0  [{\"cast_id\": 242, \"character\": \"Jake Sully\", \"...  \\\n",
       "\n",
       "                                                crew  \n",
       "0  [{\"credit_id\": \"52fe48009251416c750aca23\", \"de...  \n",
       "\n",
       "[1 rows x 23 columns]"
      ]
     },
     "execution_count": 9,
     "metadata": {},
     "output_type": "execute_result"
    }
   ],
   "source": [
    "movies.head(1)"
   ]
  },
  {
   "cell_type": "markdown",
   "id": "2c8557cf-93c3-4411-80e0-08e28f317482",
   "metadata": {},
   "source": [
    "# DATA PROCESSING"
   ]
  },
  {
   "cell_type": "markdown",
   "id": "e97aaed7-55ef-49ba-868d-c6d71ccd223f",
   "metadata": {},
   "source": [
    "#### we are making a content based recommender system, which uses tags, therefore while selecting useful columns think in terms of : can i create a tag from this and if it can be a summary point"
   ]
  },
  {
   "cell_type": "code",
   "execution_count": 10,
   "id": "6bec7d89-37ef-44bf-a4a8-792755ebc52d",
   "metadata": {},
   "outputs": [
    {
     "name": "stdout",
     "output_type": "stream",
     "text": [
      "<class 'pandas.core.frame.DataFrame'>\n",
      "RangeIndex: 4809 entries, 0 to 4808\n",
      "Data columns (total 23 columns):\n",
      " #   Column                Non-Null Count  Dtype  \n",
      "---  ------                --------------  -----  \n",
      " 0   budget                4809 non-null   int64  \n",
      " 1   genres                4809 non-null   object \n",
      " 2   homepage              1713 non-null   object \n",
      " 3   id                    4809 non-null   int64  \n",
      " 4   keywords              4809 non-null   object \n",
      " 5   original_language     4809 non-null   object \n",
      " 6   original_title        4809 non-null   object \n",
      " 7   overview              4806 non-null   object \n",
      " 8   popularity            4809 non-null   float64\n",
      " 9   production_companies  4809 non-null   object \n",
      " 10  production_countries  4809 non-null   object \n",
      " 11  release_date          4808 non-null   object \n",
      " 12  revenue               4809 non-null   int64  \n",
      " 13  runtime               4807 non-null   float64\n",
      " 14  spoken_languages      4809 non-null   object \n",
      " 15  status                4809 non-null   object \n",
      " 16  tagline               3965 non-null   object \n",
      " 17  title                 4809 non-null   object \n",
      " 18  vote_average          4809 non-null   float64\n",
      " 19  vote_count            4809 non-null   int64  \n",
      " 20  movie_id              4809 non-null   int64  \n",
      " 21  cast                  4809 non-null   object \n",
      " 22  crew                  4809 non-null   object \n",
      "dtypes: float64(3), int64(5), object(15)\n",
      "memory usage: 864.2+ KB\n"
     ]
    }
   ],
   "source": [
    "movies.info()"
   ]
  },
  {
   "cell_type": "markdown",
   "id": "116ab703-3aae-488b-8e61-29552e3c5abd",
   "metadata": {},
   "source": [
    "# useful columns:"
   ]
  },
  {
   "cell_type": "code",
   "execution_count": 11,
   "id": "bcb641c1-f02f-4f72-a760-33eeae3d0810",
   "metadata": {},
   "outputs": [],
   "source": [
    "# genre\n",
    "# id\n",
    "# keywords\n",
    "# title\n",
    "# overview\n",
    "# cast\n",
    "# crew\n",
    "#og lang\n",
    "#popularity\n",
    "#release date\n"
   ]
  },
  {
   "cell_type": "code",
   "execution_count": 12,
   "id": "779a961d-fa1f-4500-a628-74c1e3b4e9eb",
   "metadata": {},
   "outputs": [],
   "source": [
    "movies = movies[['movie_id', 'title','overview','genres','keywords','cast','crew']]"
   ]
  },
  {
   "cell_type": "code",
   "execution_count": 13,
   "id": "f71191c7-e5b3-4adf-bf3f-c118e0528589",
   "metadata": {},
   "outputs": [
    {
     "data": {
      "text/html": [
       "<div>\n",
       "<style scoped>\n",
       "    .dataframe tbody tr th:only-of-type {\n",
       "        vertical-align: middle;\n",
       "    }\n",
       "\n",
       "    .dataframe tbody tr th {\n",
       "        vertical-align: top;\n",
       "    }\n",
       "\n",
       "    .dataframe thead th {\n",
       "        text-align: right;\n",
       "    }\n",
       "</style>\n",
       "<table border=\"1\" class=\"dataframe\">\n",
       "  <thead>\n",
       "    <tr style=\"text-align: right;\">\n",
       "      <th></th>\n",
       "      <th>movie_id</th>\n",
       "      <th>title</th>\n",
       "      <th>overview</th>\n",
       "      <th>genres</th>\n",
       "      <th>keywords</th>\n",
       "      <th>cast</th>\n",
       "      <th>crew</th>\n",
       "    </tr>\n",
       "  </thead>\n",
       "  <tbody>\n",
       "    <tr>\n",
       "      <th>0</th>\n",
       "      <td>19995</td>\n",
       "      <td>Avatar</td>\n",
       "      <td>In the 22nd century, a paraplegic Marine is di...</td>\n",
       "      <td>[{\"id\": 28, \"name\": \"Action\"}, {\"id\": 12, \"nam...</td>\n",
       "      <td>[{\"id\": 1463, \"name\": \"culture clash\"}, {\"id\":...</td>\n",
       "      <td>[{\"cast_id\": 242, \"character\": \"Jake Sully\", \"...</td>\n",
       "      <td>[{\"credit_id\": \"52fe48009251416c750aca23\", \"de...</td>\n",
       "    </tr>\n",
       "  </tbody>\n",
       "</table>\n",
       "</div>"
      ],
      "text/plain": [
       "   movie_id   title                                           overview   \n",
       "0     19995  Avatar  In the 22nd century, a paraplegic Marine is di...  \\\n",
       "\n",
       "                                              genres   \n",
       "0  [{\"id\": 28, \"name\": \"Action\"}, {\"id\": 12, \"nam...  \\\n",
       "\n",
       "                                            keywords   \n",
       "0  [{\"id\": 1463, \"name\": \"culture clash\"}, {\"id\":...  \\\n",
       "\n",
       "                                                cast   \n",
       "0  [{\"cast_id\": 242, \"character\": \"Jake Sully\", \"...  \\\n",
       "\n",
       "                                                crew  \n",
       "0  [{\"credit_id\": \"52fe48009251416c750aca23\", \"de...  "
      ]
     },
     "execution_count": 13,
     "metadata": {},
     "output_type": "execute_result"
    }
   ],
   "source": [
    "movies.head(1)\n",
    "# below is the main dataframe(halfpart)"
   ]
  },
  {
   "cell_type": "markdown",
   "id": "b05ce63e-aef8-4f02-8324-8b53767c49a2",
   "metadata": {},
   "source": [
    "#### checking for missing data"
   ]
  },
  {
   "cell_type": "code",
   "execution_count": 14,
   "id": "117bcc9d-9763-4f3d-a6fc-19b7af28f7af",
   "metadata": {},
   "outputs": [
    {
     "data": {
      "text/plain": [
       "movie_id    0\n",
       "title       0\n",
       "overview    3\n",
       "genres      0\n",
       "keywords    0\n",
       "cast        0\n",
       "crew        0\n",
       "dtype: int64"
      ]
     },
     "execution_count": 14,
     "metadata": {},
     "output_type": "execute_result"
    }
   ],
   "source": [
    "movies.isnull().sum()"
   ]
  },
  {
   "cell_type": "code",
   "execution_count": 15,
   "id": "ecac469b-62c8-4db3-aeca-384f71c81507",
   "metadata": {},
   "outputs": [],
   "source": [
    "movies.dropna(inplace = True)"
   ]
  },
  {
   "cell_type": "code",
   "execution_count": 16,
   "id": "7b422312-0892-46e7-86af-e90fced7d3ae",
   "metadata": {},
   "outputs": [
    {
     "data": {
      "text/plain": [
       "movie_id    0\n",
       "title       0\n",
       "overview    0\n",
       "genres      0\n",
       "keywords    0\n",
       "cast        0\n",
       "crew        0\n",
       "dtype: int64"
      ]
     },
     "execution_count": 16,
     "metadata": {},
     "output_type": "execute_result"
    }
   ],
   "source": [
    "movies.isnull().sum()"
   ]
  },
  {
   "cell_type": "code",
   "execution_count": 17,
   "id": "32b14625-35b2-4f90-bb73-e18864cad848",
   "metadata": {},
   "outputs": [],
   "source": [
    "# check for duplicate"
   ]
  },
  {
   "cell_type": "code",
   "execution_count": 18,
   "id": "c5f21ca9-35b0-4d3f-a2a8-8f6dcb92117f",
   "metadata": {},
   "outputs": [
    {
     "data": {
      "text/plain": [
       "0"
      ]
     },
     "execution_count": 18,
     "metadata": {},
     "output_type": "execute_result"
    }
   ],
   "source": [
    "movies.duplicated().sum()"
   ]
  },
  {
   "cell_type": "code",
   "execution_count": 19,
   "id": "f08c7303-1d68-427e-968d-02ff23807a0c",
   "metadata": {},
   "outputs": [
    {
     "data": {
      "text/plain": [
       "'[{\"id\": 28, \"name\": \"Action\"}, {\"id\": 12, \"name\": \"Adventure\"}, {\"id\": 14, \"name\": \"Fantasy\"}, {\"id\": 878, \"name\": \"Science Fiction\"}]'"
      ]
     },
     "execution_count": 19,
     "metadata": {},
     "output_type": "execute_result"
    }
   ],
   "source": [
    "movies.iloc[0].genres"
   ]
  },
  {
   "cell_type": "code",
   "execution_count": 20,
   "id": "00f1984c-19d4-4d14-b49d-29bd5171affa",
   "metadata": {},
   "outputs": [],
   "source": [
    "# form recquired: ['Action','Adventure']\n",
    "# current form: list of dictionary"
   ]
  },
  {
   "cell_type": "code",
   "execution_count": 21,
   "id": "ad60530d-1708-4620-a788-aaf1cf8d0b78",
   "metadata": {},
   "outputs": [
    {
     "data": {
      "text/plain": [
       "[{'id': 28, 'name': 'Action'},\n",
       " {'id': 12, 'name': 'Adventure'},\n",
       " {'id': 14, 'name': 'Fantasy'},\n",
       " {'id': 878, 'name': 'Science Fiction'}]"
      ]
     },
     "execution_count": 21,
     "metadata": {},
     "output_type": "execute_result"
    }
   ],
   "source": [
    "import ast\n",
    "ast.literal_eval('[{\"id\": 28, \"name\": \"Action\"}, {\"id\": 12, \"name\": \"Adventure\"}, {\"id\": 14, \"name\": \"Fantasy\"}, {\"id\": 878, \"name\": \"Science Fiction\"}]')"
   ]
  },
  {
   "cell_type": "code",
   "execution_count": 22,
   "id": "59286b9b-2f30-4a09-8ec5-0cdb3752b6e2",
   "metadata": {},
   "outputs": [],
   "source": [
    "def convert(obj):\n",
    "    L= []\n",
    "    for i in ast.literal_eval(obj): \n",
    "        L.append(i['name'])\n",
    "    return L"
   ]
  },
  {
   "cell_type": "code",
   "execution_count": 23,
   "id": "86cf9042-635d-42c9-a96f-e284c87c9317",
   "metadata": {},
   "outputs": [],
   "source": [
    "movies['genres'] = movies['genres'].apply(convert)"
   ]
  },
  {
   "cell_type": "code",
   "execution_count": 24,
   "id": "af044f8a-a6b2-4b5b-838a-a8b87becb285",
   "metadata": {},
   "outputs": [
    {
     "data": {
      "text/html": [
       "<div>\n",
       "<style scoped>\n",
       "    .dataframe tbody tr th:only-of-type {\n",
       "        vertical-align: middle;\n",
       "    }\n",
       "\n",
       "    .dataframe tbody tr th {\n",
       "        vertical-align: top;\n",
       "    }\n",
       "\n",
       "    .dataframe thead th {\n",
       "        text-align: right;\n",
       "    }\n",
       "</style>\n",
       "<table border=\"1\" class=\"dataframe\">\n",
       "  <thead>\n",
       "    <tr style=\"text-align: right;\">\n",
       "      <th></th>\n",
       "      <th>movie_id</th>\n",
       "      <th>title</th>\n",
       "      <th>overview</th>\n",
       "      <th>genres</th>\n",
       "      <th>keywords</th>\n",
       "      <th>cast</th>\n",
       "      <th>crew</th>\n",
       "    </tr>\n",
       "  </thead>\n",
       "  <tbody>\n",
       "    <tr>\n",
       "      <th>0</th>\n",
       "      <td>19995</td>\n",
       "      <td>Avatar</td>\n",
       "      <td>In the 22nd century, a paraplegic Marine is di...</td>\n",
       "      <td>[Action, Adventure, Fantasy, Science Fiction]</td>\n",
       "      <td>[{\"id\": 1463, \"name\": \"culture clash\"}, {\"id\":...</td>\n",
       "      <td>[{\"cast_id\": 242, \"character\": \"Jake Sully\", \"...</td>\n",
       "      <td>[{\"credit_id\": \"52fe48009251416c750aca23\", \"de...</td>\n",
       "    </tr>\n",
       "    <tr>\n",
       "      <th>1</th>\n",
       "      <td>285</td>\n",
       "      <td>Pirates of the Caribbean: At World's End</td>\n",
       "      <td>Captain Barbossa, long believed to be dead, ha...</td>\n",
       "      <td>[Adventure, Fantasy, Action]</td>\n",
       "      <td>[{\"id\": 270, \"name\": \"ocean\"}, {\"id\": 726, \"na...</td>\n",
       "      <td>[{\"cast_id\": 4, \"character\": \"Captain Jack Spa...</td>\n",
       "      <td>[{\"credit_id\": \"52fe4232c3a36847f800b579\", \"de...</td>\n",
       "    </tr>\n",
       "    <tr>\n",
       "      <th>2</th>\n",
       "      <td>206647</td>\n",
       "      <td>Spectre</td>\n",
       "      <td>A cryptic message from Bond’s past sends him o...</td>\n",
       "      <td>[Action, Adventure, Crime]</td>\n",
       "      <td>[{\"id\": 470, \"name\": \"spy\"}, {\"id\": 818, \"name...</td>\n",
       "      <td>[{\"cast_id\": 1, \"character\": \"James Bond\", \"cr...</td>\n",
       "      <td>[{\"credit_id\": \"54805967c3a36829b5002c41\", \"de...</td>\n",
       "    </tr>\n",
       "    <tr>\n",
       "      <th>3</th>\n",
       "      <td>49026</td>\n",
       "      <td>The Dark Knight Rises</td>\n",
       "      <td>Following the death of District Attorney Harve...</td>\n",
       "      <td>[Action, Crime, Drama, Thriller]</td>\n",
       "      <td>[{\"id\": 849, \"name\": \"dc comics\"}, {\"id\": 853,...</td>\n",
       "      <td>[{\"cast_id\": 2, \"character\": \"Bruce Wayne / Ba...</td>\n",
       "      <td>[{\"credit_id\": \"52fe4781c3a36847f81398c3\", \"de...</td>\n",
       "    </tr>\n",
       "    <tr>\n",
       "      <th>4</th>\n",
       "      <td>49529</td>\n",
       "      <td>John Carter</td>\n",
       "      <td>John Carter is a war-weary, former military ca...</td>\n",
       "      <td>[Action, Adventure, Science Fiction]</td>\n",
       "      <td>[{\"id\": 818, \"name\": \"based on novel\"}, {\"id\":...</td>\n",
       "      <td>[{\"cast_id\": 5, \"character\": \"John Carter\", \"c...</td>\n",
       "      <td>[{\"credit_id\": \"52fe479ac3a36847f813eaa3\", \"de...</td>\n",
       "    </tr>\n",
       "  </tbody>\n",
       "</table>\n",
       "</div>"
      ],
      "text/plain": [
       "   movie_id                                     title   \n",
       "0     19995                                    Avatar  \\\n",
       "1       285  Pirates of the Caribbean: At World's End   \n",
       "2    206647                                   Spectre   \n",
       "3     49026                     The Dark Knight Rises   \n",
       "4     49529                               John Carter   \n",
       "\n",
       "                                            overview   \n",
       "0  In the 22nd century, a paraplegic Marine is di...  \\\n",
       "1  Captain Barbossa, long believed to be dead, ha...   \n",
       "2  A cryptic message from Bond’s past sends him o...   \n",
       "3  Following the death of District Attorney Harve...   \n",
       "4  John Carter is a war-weary, former military ca...   \n",
       "\n",
       "                                          genres   \n",
       "0  [Action, Adventure, Fantasy, Science Fiction]  \\\n",
       "1                   [Adventure, Fantasy, Action]   \n",
       "2                     [Action, Adventure, Crime]   \n",
       "3               [Action, Crime, Drama, Thriller]   \n",
       "4           [Action, Adventure, Science Fiction]   \n",
       "\n",
       "                                            keywords   \n",
       "0  [{\"id\": 1463, \"name\": \"culture clash\"}, {\"id\":...  \\\n",
       "1  [{\"id\": 270, \"name\": \"ocean\"}, {\"id\": 726, \"na...   \n",
       "2  [{\"id\": 470, \"name\": \"spy\"}, {\"id\": 818, \"name...   \n",
       "3  [{\"id\": 849, \"name\": \"dc comics\"}, {\"id\": 853,...   \n",
       "4  [{\"id\": 818, \"name\": \"based on novel\"}, {\"id\":...   \n",
       "\n",
       "                                                cast   \n",
       "0  [{\"cast_id\": 242, \"character\": \"Jake Sully\", \"...  \\\n",
       "1  [{\"cast_id\": 4, \"character\": \"Captain Jack Spa...   \n",
       "2  [{\"cast_id\": 1, \"character\": \"James Bond\", \"cr...   \n",
       "3  [{\"cast_id\": 2, \"character\": \"Bruce Wayne / Ba...   \n",
       "4  [{\"cast_id\": 5, \"character\": \"John Carter\", \"c...   \n",
       "\n",
       "                                                crew  \n",
       "0  [{\"credit_id\": \"52fe48009251416c750aca23\", \"de...  \n",
       "1  [{\"credit_id\": \"52fe4232c3a36847f800b579\", \"de...  \n",
       "2  [{\"credit_id\": \"54805967c3a36829b5002c41\", \"de...  \n",
       "3  [{\"credit_id\": \"52fe4781c3a36847f81398c3\", \"de...  \n",
       "4  [{\"credit_id\": \"52fe479ac3a36847f813eaa3\", \"de...  "
      ]
     },
     "execution_count": 24,
     "metadata": {},
     "output_type": "execute_result"
    }
   ],
   "source": [
    "movies.head()"
   ]
  },
  {
   "cell_type": "code",
   "execution_count": 25,
   "id": "4b8a11c3-5932-445a-841b-844e7769606b",
   "metadata": {},
   "outputs": [],
   "source": [
    "movies['keywords']= movies['keywords'].apply(convert)"
   ]
  },
  {
   "cell_type": "code",
   "execution_count": 26,
   "id": "66a3555d-5f48-4e0b-96ba-fb2397778b89",
   "metadata": {},
   "outputs": [
    {
     "data": {
      "text/html": [
       "<div>\n",
       "<style scoped>\n",
       "    .dataframe tbody tr th:only-of-type {\n",
       "        vertical-align: middle;\n",
       "    }\n",
       "\n",
       "    .dataframe tbody tr th {\n",
       "        vertical-align: top;\n",
       "    }\n",
       "\n",
       "    .dataframe thead th {\n",
       "        text-align: right;\n",
       "    }\n",
       "</style>\n",
       "<table border=\"1\" class=\"dataframe\">\n",
       "  <thead>\n",
       "    <tr style=\"text-align: right;\">\n",
       "      <th></th>\n",
       "      <th>movie_id</th>\n",
       "      <th>title</th>\n",
       "      <th>overview</th>\n",
       "      <th>genres</th>\n",
       "      <th>keywords</th>\n",
       "      <th>cast</th>\n",
       "      <th>crew</th>\n",
       "    </tr>\n",
       "  </thead>\n",
       "  <tbody>\n",
       "    <tr>\n",
       "      <th>0</th>\n",
       "      <td>19995</td>\n",
       "      <td>Avatar</td>\n",
       "      <td>In the 22nd century, a paraplegic Marine is di...</td>\n",
       "      <td>[Action, Adventure, Fantasy, Science Fiction]</td>\n",
       "      <td>[culture clash, future, space war, space colon...</td>\n",
       "      <td>[{\"cast_id\": 242, \"character\": \"Jake Sully\", \"...</td>\n",
       "      <td>[{\"credit_id\": \"52fe48009251416c750aca23\", \"de...</td>\n",
       "    </tr>\n",
       "    <tr>\n",
       "      <th>1</th>\n",
       "      <td>285</td>\n",
       "      <td>Pirates of the Caribbean: At World's End</td>\n",
       "      <td>Captain Barbossa, long believed to be dead, ha...</td>\n",
       "      <td>[Adventure, Fantasy, Action]</td>\n",
       "      <td>[ocean, drug abuse, exotic island, east india ...</td>\n",
       "      <td>[{\"cast_id\": 4, \"character\": \"Captain Jack Spa...</td>\n",
       "      <td>[{\"credit_id\": \"52fe4232c3a36847f800b579\", \"de...</td>\n",
       "    </tr>\n",
       "    <tr>\n",
       "      <th>2</th>\n",
       "      <td>206647</td>\n",
       "      <td>Spectre</td>\n",
       "      <td>A cryptic message from Bond’s past sends him o...</td>\n",
       "      <td>[Action, Adventure, Crime]</td>\n",
       "      <td>[spy, based on novel, secret agent, sequel, mi...</td>\n",
       "      <td>[{\"cast_id\": 1, \"character\": \"James Bond\", \"cr...</td>\n",
       "      <td>[{\"credit_id\": \"54805967c3a36829b5002c41\", \"de...</td>\n",
       "    </tr>\n",
       "    <tr>\n",
       "      <th>3</th>\n",
       "      <td>49026</td>\n",
       "      <td>The Dark Knight Rises</td>\n",
       "      <td>Following the death of District Attorney Harve...</td>\n",
       "      <td>[Action, Crime, Drama, Thriller]</td>\n",
       "      <td>[dc comics, crime fighter, terrorist, secret i...</td>\n",
       "      <td>[{\"cast_id\": 2, \"character\": \"Bruce Wayne / Ba...</td>\n",
       "      <td>[{\"credit_id\": \"52fe4781c3a36847f81398c3\", \"de...</td>\n",
       "    </tr>\n",
       "    <tr>\n",
       "      <th>4</th>\n",
       "      <td>49529</td>\n",
       "      <td>John Carter</td>\n",
       "      <td>John Carter is a war-weary, former military ca...</td>\n",
       "      <td>[Action, Adventure, Science Fiction]</td>\n",
       "      <td>[based on novel, mars, medallion, space travel...</td>\n",
       "      <td>[{\"cast_id\": 5, \"character\": \"John Carter\", \"c...</td>\n",
       "      <td>[{\"credit_id\": \"52fe479ac3a36847f813eaa3\", \"de...</td>\n",
       "    </tr>\n",
       "  </tbody>\n",
       "</table>\n",
       "</div>"
      ],
      "text/plain": [
       "   movie_id                                     title   \n",
       "0     19995                                    Avatar  \\\n",
       "1       285  Pirates of the Caribbean: At World's End   \n",
       "2    206647                                   Spectre   \n",
       "3     49026                     The Dark Knight Rises   \n",
       "4     49529                               John Carter   \n",
       "\n",
       "                                            overview   \n",
       "0  In the 22nd century, a paraplegic Marine is di...  \\\n",
       "1  Captain Barbossa, long believed to be dead, ha...   \n",
       "2  A cryptic message from Bond’s past sends him o...   \n",
       "3  Following the death of District Attorney Harve...   \n",
       "4  John Carter is a war-weary, former military ca...   \n",
       "\n",
       "                                          genres   \n",
       "0  [Action, Adventure, Fantasy, Science Fiction]  \\\n",
       "1                   [Adventure, Fantasy, Action]   \n",
       "2                     [Action, Adventure, Crime]   \n",
       "3               [Action, Crime, Drama, Thriller]   \n",
       "4           [Action, Adventure, Science Fiction]   \n",
       "\n",
       "                                            keywords   \n",
       "0  [culture clash, future, space war, space colon...  \\\n",
       "1  [ocean, drug abuse, exotic island, east india ...   \n",
       "2  [spy, based on novel, secret agent, sequel, mi...   \n",
       "3  [dc comics, crime fighter, terrorist, secret i...   \n",
       "4  [based on novel, mars, medallion, space travel...   \n",
       "\n",
       "                                                cast   \n",
       "0  [{\"cast_id\": 242, \"character\": \"Jake Sully\", \"...  \\\n",
       "1  [{\"cast_id\": 4, \"character\": \"Captain Jack Spa...   \n",
       "2  [{\"cast_id\": 1, \"character\": \"James Bond\", \"cr...   \n",
       "3  [{\"cast_id\": 2, \"character\": \"Bruce Wayne / Ba...   \n",
       "4  [{\"cast_id\": 5, \"character\": \"John Carter\", \"c...   \n",
       "\n",
       "                                                crew  \n",
       "0  [{\"credit_id\": \"52fe48009251416c750aca23\", \"de...  \n",
       "1  [{\"credit_id\": \"52fe4232c3a36847f800b579\", \"de...  \n",
       "2  [{\"credit_id\": \"54805967c3a36829b5002c41\", \"de...  \n",
       "3  [{\"credit_id\": \"52fe4781c3a36847f81398c3\", \"de...  \n",
       "4  [{\"credit_id\": \"52fe479ac3a36847f813eaa3\", \"de...  "
      ]
     },
     "execution_count": 26,
     "metadata": {},
     "output_type": "execute_result"
    }
   ],
   "source": [
    "movies.head()"
   ]
  },
  {
   "cell_type": "code",
   "execution_count": 27,
   "id": "76f6fb61-e8e2-4b8e-8acb-a62336e879cc",
   "metadata": {},
   "outputs": [],
   "source": [
    "# from cast, we only want the first three actors"
   ]
  },
  {
   "cell_type": "code",
   "execution_count": 28,
   "id": "929affc2-5ab7-4ceb-b8e5-9d65e368a035",
   "metadata": {},
   "outputs": [],
   "source": [
    "#{} => dictionary "
   ]
  },
  {
   "cell_type": "code",
   "execution_count": 29,
   "id": "8df206dc-75c9-4843-856a-40bd6bfca936",
   "metadata": {},
   "outputs": [],
   "source": [
    "def convert3(obj):\n",
    "    L= []\n",
    "    counter = 0\n",
    "    for i in ast.literal_eval(obj): \n",
    "        if counter != 3:\n",
    "            L.append(i['name'])\n",
    "            counter+=1\n",
    "        else:\n",
    "             break\n",
    "        \n",
    "    return L"
   ]
  },
  {
   "cell_type": "code",
   "execution_count": 30,
   "id": "aa25e99e-ea5e-48ea-b16e-dba1336a5504",
   "metadata": {},
   "outputs": [],
   "source": [
    "movies['cast'] = movies['cast'].apply(convert3)"
   ]
  },
  {
   "cell_type": "code",
   "execution_count": 31,
   "id": "d1239f65-0553-4660-8e87-eea1d08d05c3",
   "metadata": {},
   "outputs": [
    {
     "data": {
      "text/html": [
       "<div>\n",
       "<style scoped>\n",
       "    .dataframe tbody tr th:only-of-type {\n",
       "        vertical-align: middle;\n",
       "    }\n",
       "\n",
       "    .dataframe tbody tr th {\n",
       "        vertical-align: top;\n",
       "    }\n",
       "\n",
       "    .dataframe thead th {\n",
       "        text-align: right;\n",
       "    }\n",
       "</style>\n",
       "<table border=\"1\" class=\"dataframe\">\n",
       "  <thead>\n",
       "    <tr style=\"text-align: right;\">\n",
       "      <th></th>\n",
       "      <th>movie_id</th>\n",
       "      <th>title</th>\n",
       "      <th>overview</th>\n",
       "      <th>genres</th>\n",
       "      <th>keywords</th>\n",
       "      <th>cast</th>\n",
       "      <th>crew</th>\n",
       "    </tr>\n",
       "  </thead>\n",
       "  <tbody>\n",
       "    <tr>\n",
       "      <th>0</th>\n",
       "      <td>19995</td>\n",
       "      <td>Avatar</td>\n",
       "      <td>In the 22nd century, a paraplegic Marine is di...</td>\n",
       "      <td>[Action, Adventure, Fantasy, Science Fiction]</td>\n",
       "      <td>[culture clash, future, space war, space colon...</td>\n",
       "      <td>[Sam Worthington, Zoe Saldana, Sigourney Weaver]</td>\n",
       "      <td>[{\"credit_id\": \"52fe48009251416c750aca23\", \"de...</td>\n",
       "    </tr>\n",
       "    <tr>\n",
       "      <th>1</th>\n",
       "      <td>285</td>\n",
       "      <td>Pirates of the Caribbean: At World's End</td>\n",
       "      <td>Captain Barbossa, long believed to be dead, ha...</td>\n",
       "      <td>[Adventure, Fantasy, Action]</td>\n",
       "      <td>[ocean, drug abuse, exotic island, east india ...</td>\n",
       "      <td>[Johnny Depp, Orlando Bloom, Keira Knightley]</td>\n",
       "      <td>[{\"credit_id\": \"52fe4232c3a36847f800b579\", \"de...</td>\n",
       "    </tr>\n",
       "    <tr>\n",
       "      <th>2</th>\n",
       "      <td>206647</td>\n",
       "      <td>Spectre</td>\n",
       "      <td>A cryptic message from Bond’s past sends him o...</td>\n",
       "      <td>[Action, Adventure, Crime]</td>\n",
       "      <td>[spy, based on novel, secret agent, sequel, mi...</td>\n",
       "      <td>[Daniel Craig, Christoph Waltz, Léa Seydoux]</td>\n",
       "      <td>[{\"credit_id\": \"54805967c3a36829b5002c41\", \"de...</td>\n",
       "    </tr>\n",
       "    <tr>\n",
       "      <th>3</th>\n",
       "      <td>49026</td>\n",
       "      <td>The Dark Knight Rises</td>\n",
       "      <td>Following the death of District Attorney Harve...</td>\n",
       "      <td>[Action, Crime, Drama, Thriller]</td>\n",
       "      <td>[dc comics, crime fighter, terrorist, secret i...</td>\n",
       "      <td>[Christian Bale, Michael Caine, Gary Oldman]</td>\n",
       "      <td>[{\"credit_id\": \"52fe4781c3a36847f81398c3\", \"de...</td>\n",
       "    </tr>\n",
       "    <tr>\n",
       "      <th>4</th>\n",
       "      <td>49529</td>\n",
       "      <td>John Carter</td>\n",
       "      <td>John Carter is a war-weary, former military ca...</td>\n",
       "      <td>[Action, Adventure, Science Fiction]</td>\n",
       "      <td>[based on novel, mars, medallion, space travel...</td>\n",
       "      <td>[Taylor Kitsch, Lynn Collins, Samantha Morton]</td>\n",
       "      <td>[{\"credit_id\": \"52fe479ac3a36847f813eaa3\", \"de...</td>\n",
       "    </tr>\n",
       "  </tbody>\n",
       "</table>\n",
       "</div>"
      ],
      "text/plain": [
       "   movie_id                                     title   \n",
       "0     19995                                    Avatar  \\\n",
       "1       285  Pirates of the Caribbean: At World's End   \n",
       "2    206647                                   Spectre   \n",
       "3     49026                     The Dark Knight Rises   \n",
       "4     49529                               John Carter   \n",
       "\n",
       "                                            overview   \n",
       "0  In the 22nd century, a paraplegic Marine is di...  \\\n",
       "1  Captain Barbossa, long believed to be dead, ha...   \n",
       "2  A cryptic message from Bond’s past sends him o...   \n",
       "3  Following the death of District Attorney Harve...   \n",
       "4  John Carter is a war-weary, former military ca...   \n",
       "\n",
       "                                          genres   \n",
       "0  [Action, Adventure, Fantasy, Science Fiction]  \\\n",
       "1                   [Adventure, Fantasy, Action]   \n",
       "2                     [Action, Adventure, Crime]   \n",
       "3               [Action, Crime, Drama, Thriller]   \n",
       "4           [Action, Adventure, Science Fiction]   \n",
       "\n",
       "                                            keywords   \n",
       "0  [culture clash, future, space war, space colon...  \\\n",
       "1  [ocean, drug abuse, exotic island, east india ...   \n",
       "2  [spy, based on novel, secret agent, sequel, mi...   \n",
       "3  [dc comics, crime fighter, terrorist, secret i...   \n",
       "4  [based on novel, mars, medallion, space travel...   \n",
       "\n",
       "                                               cast   \n",
       "0  [Sam Worthington, Zoe Saldana, Sigourney Weaver]  \\\n",
       "1     [Johnny Depp, Orlando Bloom, Keira Knightley]   \n",
       "2      [Daniel Craig, Christoph Waltz, Léa Seydoux]   \n",
       "3      [Christian Bale, Michael Caine, Gary Oldman]   \n",
       "4    [Taylor Kitsch, Lynn Collins, Samantha Morton]   \n",
       "\n",
       "                                                crew  \n",
       "0  [{\"credit_id\": \"52fe48009251416c750aca23\", \"de...  \n",
       "1  [{\"credit_id\": \"52fe4232c3a36847f800b579\", \"de...  \n",
       "2  [{\"credit_id\": \"54805967c3a36829b5002c41\", \"de...  \n",
       "3  [{\"credit_id\": \"52fe4781c3a36847f81398c3\", \"de...  \n",
       "4  [{\"credit_id\": \"52fe479ac3a36847f813eaa3\", \"de...  "
      ]
     },
     "execution_count": 31,
     "metadata": {},
     "output_type": "execute_result"
    }
   ],
   "source": [
    "movies.head()"
   ]
  },
  {
   "cell_type": "code",
   "execution_count": 32,
   "id": "4aec9868-5993-4588-82fd-dd3911794cf6",
   "metadata": {},
   "outputs": [
    {
     "data": {
      "text/plain": [
       "'[{\"credit_id\": \"52fe48009251416c750aca23\", \"department\": \"Editing\", \"gender\": 0, \"id\": 1721, \"job\": \"Editor\", \"name\": \"Stephen E. Rivkin\"}, {\"credit_id\": \"539c47ecc3a36810e3001f87\", \"department\": \"Art\", \"gender\": 2, \"id\": 496, \"job\": \"Production Design\", \"name\": \"Rick Carter\"}, {\"credit_id\": \"54491c89c3a3680fb4001cf7\", \"department\": \"Sound\", \"gender\": 0, \"id\": 900, \"job\": \"Sound Designer\", \"name\": \"Christopher Boyes\"}, {\"credit_id\": \"54491cb70e0a267480001bd0\", \"department\": \"Sound\", \"gender\": 0, \"id\": 900, \"job\": \"Supervising Sound Editor\", \"name\": \"Christopher Boyes\"}, {\"credit_id\": \"539c4a4cc3a36810c9002101\", \"department\": \"Production\", \"gender\": 1, \"id\": 1262, \"job\": \"Casting\", \"name\": \"Mali Finn\"}, {\"credit_id\": \"5544ee3b925141499f0008fc\", \"department\": \"Sound\", \"gender\": 2, \"id\": 1729, \"job\": \"Original Music Composer\", \"name\": \"James Horner\"}, {\"credit_id\": \"52fe48009251416c750ac9c3\", \"department\": \"Directing\", \"gender\": 2, \"id\": 2710, \"job\": \"Director\", \"name\": \"James Cameron\"}, {\"credit_id\": \"52fe48009251416c750ac9d9\", \"department\": \"Writing\", \"gender\": 2, \"id\": 2710, \"job\": \"Writer\", \"name\": \"James Cameron\"}, {\"credit_id\": \"52fe48009251416c750aca17\", \"department\": \"Editing\", \"gender\": 2, \"id\": 2710, \"job\": \"Editor\", \"name\": \"James Cameron\"}, {\"credit_id\": \"52fe48009251416c750aca29\", \"department\": \"Production\", \"gender\": 2, \"id\": 2710, \"job\": \"Producer\", \"name\": \"James Cameron\"}, {\"credit_id\": \"52fe48009251416c750aca3f\", \"department\": \"Writing\", \"gender\": 2, \"id\": 2710, \"job\": \"Screenplay\", \"name\": \"James Cameron\"}, {\"credit_id\": \"539c4987c3a36810ba0021a4\", \"department\": \"Art\", \"gender\": 2, \"id\": 7236, \"job\": \"Art Direction\", \"name\": \"Andrew Menzies\"}, {\"credit_id\": \"549598c3c3a3686ae9004383\", \"department\": \"Visual Effects\", \"gender\": 0, \"id\": 6690, \"job\": \"Visual Effects Producer\", \"name\": \"Jill Brooks\"}, {\"credit_id\": \"52fe48009251416c750aca4b\", \"department\": \"Production\", \"gender\": 1, \"id\": 6347, \"job\": \"Casting\", \"name\": \"Margery Simkin\"}, {\"credit_id\": \"570b6f419251417da70032fe\", \"department\": \"Art\", \"gender\": 2, \"id\": 6878, \"job\": \"Supervising Art Director\", \"name\": \"Kevin Ishioka\"}, {\"credit_id\": \"5495a0fac3a3686ae9004468\", \"department\": \"Sound\", \"gender\": 0, \"id\": 6883, \"job\": \"Music Editor\", \"name\": \"Dick Bernstein\"}, {\"credit_id\": \"54959706c3a3686af3003e81\", \"department\": \"Sound\", \"gender\": 0, \"id\": 8159, \"job\": \"Sound Effects Editor\", \"name\": \"Shannon Mills\"}, {\"credit_id\": \"54491d58c3a3680fb1001ccb\", \"department\": \"Sound\", \"gender\": 0, \"id\": 8160, \"job\": \"Foley\", \"name\": \"Dennie Thorpe\"}, {\"credit_id\": \"54491d6cc3a3680fa5001b2c\", \"department\": \"Sound\", \"gender\": 0, \"id\": 8163, \"job\": \"Foley\", \"name\": \"Jana Vance\"}, {\"credit_id\": \"52fe48009251416c750aca57\", \"department\": \"Costume & Make-Up\", \"gender\": 1, \"id\": 8527, \"job\": \"Costume Design\", \"name\": \"Deborah Lynn Scott\"}, {\"credit_id\": \"52fe48009251416c750aca2f\", \"department\": \"Production\", \"gender\": 2, \"id\": 8529, \"job\": \"Producer\", \"name\": \"Jon Landau\"}, {\"credit_id\": \"539c4937c3a36810ba002194\", \"department\": \"Art\", \"gender\": 0, \"id\": 9618, \"job\": \"Art Direction\", \"name\": \"Sean Haworth\"}, {\"credit_id\": \"539c49b6c3a36810c10020e6\", \"department\": \"Art\", \"gender\": 1, \"id\": 12653, \"job\": \"Set Decoration\", \"name\": \"Kim Sinclair\"}, {\"credit_id\": \"570b6f2f9251413a0e00020d\", \"department\": \"Art\", \"gender\": 1, \"id\": 12653, \"job\": \"Supervising Art Director\", \"name\": \"Kim Sinclair\"}, {\"credit_id\": \"54491a6c0e0a26748c001b19\", \"department\": \"Art\", \"gender\": 2, \"id\": 14350, \"job\": \"Set Designer\", \"name\": \"Richard F. Mays\"}, {\"credit_id\": \"56928cf4c3a3684cff0025c4\", \"department\": \"Production\", \"gender\": 1, \"id\": 20294, \"job\": \"Executive Producer\", \"name\": \"Laeta Kalogridis\"}, {\"credit_id\": \"52fe48009251416c750aca51\", \"department\": \"Costume & Make-Up\", \"gender\": 0, \"id\": 17675, \"job\": \"Costume Design\", \"name\": \"Mayes C. Rubeo\"}, {\"credit_id\": \"52fe48009251416c750aca11\", \"department\": \"Camera\", \"gender\": 2, \"id\": 18265, \"job\": \"Director of Photography\", \"name\": \"Mauro Fiore\"}, {\"credit_id\": \"5449194d0e0a26748f001b39\", \"department\": \"Art\", \"gender\": 0, \"id\": 42281, \"job\": \"Set Designer\", \"name\": \"Scott Herbertson\"}, {\"credit_id\": \"52fe48009251416c750aca05\", \"department\": \"Crew\", \"gender\": 0, \"id\": 42288, \"job\": \"Stunts\", \"name\": \"Woody Schultz\"}, {\"credit_id\": \"5592aefb92514152de0010f5\", \"department\": \"Costume & Make-Up\", \"gender\": 0, \"id\": 29067, \"job\": \"Makeup Artist\", \"name\": \"Linda DeVetta\"}, {\"credit_id\": \"5592afa492514152de00112c\", \"department\": \"Costume & Make-Up\", \"gender\": 0, \"id\": 29067, \"job\": \"Hairstylist\", \"name\": \"Linda DeVetta\"}, {\"credit_id\": \"54959ed592514130fc002e5d\", \"department\": \"Camera\", \"gender\": 2, \"id\": 33302, \"job\": \"Camera Operator\", \"name\": \"Richard Bluck\"}, {\"credit_id\": \"539c4891c3a36810ba002147\", \"department\": \"Art\", \"gender\": 2, \"id\": 33303, \"job\": \"Art Direction\", \"name\": \"Simon Bright\"}, {\"credit_id\": \"54959c069251417a81001f3a\", \"department\": \"Visual Effects\", \"gender\": 0, \"id\": 113145, \"job\": \"Visual Effects Supervisor\", \"name\": \"Richard Martin\"}, {\"credit_id\": \"54959a0dc3a3680ff5002c8d\", \"department\": \"Crew\", \"gender\": 2, \"id\": 58188, \"job\": \"Visual Effects Editor\", \"name\": \"Steve R. Moore\"}, {\"credit_id\": \"52fe48009251416c750aca1d\", \"department\": \"Editing\", \"gender\": 2, \"id\": 58871, \"job\": \"Editor\", \"name\": \"John Refoua\"}, {\"credit_id\": \"54491a4dc3a3680fc30018ca\", \"department\": \"Art\", \"gender\": 0, \"id\": 92359, \"job\": \"Set Designer\", \"name\": \"Karl J. Martin\"}, {\"credit_id\": \"52fe48009251416c750aca35\", \"department\": \"Camera\", \"gender\": 1, \"id\": 72201, \"job\": \"Director of Photography\", \"name\": \"Chiling Lin\"}, {\"credit_id\": \"52fe48009251416c750ac9ff\", \"department\": \"Crew\", \"gender\": 0, \"id\": 89714, \"job\": \"Stunts\", \"name\": \"Ilram Choi\"}, {\"credit_id\": \"54959c529251416e2b004394\", \"department\": \"Visual Effects\", \"gender\": 2, \"id\": 93214, \"job\": \"Visual Effects Supervisor\", \"name\": \"Steven Quale\"}, {\"credit_id\": \"54491edf0e0a267489001c37\", \"department\": \"Crew\", \"gender\": 1, \"id\": 122607, \"job\": \"Dialect Coach\", \"name\": \"Carla Meyer\"}, {\"credit_id\": \"539c485bc3a368653d001a3a\", \"department\": \"Art\", \"gender\": 2, \"id\": 132585, \"job\": \"Art Direction\", \"name\": \"Nick Bassett\"}, {\"credit_id\": \"539c4903c3a368653d001a74\", \"department\": \"Art\", \"gender\": 0, \"id\": 132596, \"job\": \"Art Direction\", \"name\": \"Jill Cormack\"}, {\"credit_id\": \"539c4967c3a368653d001a94\", \"department\": \"Art\", \"gender\": 0, \"id\": 132604, \"job\": \"Art Direction\", \"name\": \"Andy McLaren\"}, {\"credit_id\": \"52fe48009251416c750aca45\", \"department\": \"Crew\", \"gender\": 0, \"id\": 236696, \"job\": \"Motion Capture Artist\", \"name\": \"Terry Notary\"}, {\"credit_id\": \"54959e02c3a3680fc60027d2\", \"department\": \"Crew\", \"gender\": 2, \"id\": 956198, \"job\": \"Stunt Coordinator\", \"name\": \"Garrett Warren\"}, {\"credit_id\": \"54959ca3c3a3686ae300438c\", \"department\": \"Visual Effects\", \"gender\": 2, \"id\": 957874, \"job\": \"Visual Effects Supervisor\", \"name\": \"Jonathan Rothbart\"}, {\"credit_id\": \"570b6f519251412c74001b2f\", \"department\": \"Art\", \"gender\": 0, \"id\": 957889, \"job\": \"Supervising Art Director\", \"name\": \"Stefan Dechant\"}, {\"credit_id\": \"570b6f62c3a3680b77007460\", \"department\": \"Art\", \"gender\": 2, \"id\": 959555, \"job\": \"Supervising Art Director\", \"name\": \"Todd Cherniawsky\"}, {\"credit_id\": \"539c4a3ac3a36810da0021cc\", \"department\": \"Production\", \"gender\": 0, \"id\": 1016177, \"job\": \"Casting\", \"name\": \"Miranda Rivers\"}, {\"credit_id\": \"539c482cc3a36810c1002062\", \"department\": \"Art\", \"gender\": 0, \"id\": 1032536, \"job\": \"Production Design\", \"name\": \"Robert Stromberg\"}, {\"credit_id\": \"539c4b65c3a36810c9002125\", \"department\": \"Costume & Make-Up\", \"gender\": 2, \"id\": 1071680, \"job\": \"Costume Design\", \"name\": \"John Harding\"}, {\"credit_id\": \"54959e6692514130fc002e4e\", \"department\": \"Camera\", \"gender\": 0, \"id\": 1177364, \"job\": \"Steadicam Operator\", \"name\": \"Roberto De Angelis\"}, {\"credit_id\": \"539c49f1c3a368653d001aac\", \"department\": \"Costume & Make-Up\", \"gender\": 2, \"id\": 1202850, \"job\": \"Makeup Department Head\", \"name\": \"Mike Smithson\"}, {\"credit_id\": \"5495999ec3a3686ae100460c\", \"department\": \"Visual Effects\", \"gender\": 0, \"id\": 1204668, \"job\": \"Visual Effects Producer\", \"name\": \"Alain Lalanne\"}, {\"credit_id\": \"54959cdfc3a3681153002729\", \"department\": \"Visual Effects\", \"gender\": 0, \"id\": 1206410, \"job\": \"Visual Effects Supervisor\", \"name\": \"Lucas Salton\"}, {\"credit_id\": \"549596239251417a81001eae\", \"department\": \"Crew\", \"gender\": 0, \"id\": 1234266, \"job\": \"Post Production Supervisor\", \"name\": \"Janace Tashjian\"}, {\"credit_id\": \"54959c859251416e1e003efe\", \"department\": \"Visual Effects\", \"gender\": 0, \"id\": 1271932, \"job\": \"Visual Effects Supervisor\", \"name\": \"Stephen Rosenbaum\"}, {\"credit_id\": \"5592af28c3a368775a00105f\", \"department\": \"Costume & Make-Up\", \"gender\": 0, \"id\": 1310064, \"job\": \"Makeup Artist\", \"name\": \"Frankie Karena\"}, {\"credit_id\": \"539c4adfc3a36810e300203b\", \"department\": \"Costume & Make-Up\", \"gender\": 1, \"id\": 1319844, \"job\": \"Costume Supervisor\", \"name\": \"Lisa Lovaas\"}, {\"credit_id\": \"54959b579251416e2b004371\", \"department\": \"Visual Effects\", \"gender\": 0, \"id\": 1327028, \"job\": \"Visual Effects Supervisor\", \"name\": \"Jonathan Fawkner\"}, {\"credit_id\": \"539c48a7c3a36810b5001fa7\", \"department\": \"Art\", \"gender\": 0, \"id\": 1330561, \"job\": \"Art Direction\", \"name\": \"Robert Bavin\"}, {\"credit_id\": \"539c4a71c3a36810da0021e0\", \"department\": \"Costume & Make-Up\", \"gender\": 0, \"id\": 1330567, \"job\": \"Costume Supervisor\", \"name\": \"Anthony Almaraz\"}, {\"credit_id\": \"539c4a8ac3a36810ba0021e4\", \"department\": \"Costume & Make-Up\", \"gender\": 0, \"id\": 1330570, \"job\": \"Costume Supervisor\", \"name\": \"Carolyn M. Fenton\"}, {\"credit_id\": \"539c4ab6c3a36810da0021f0\", \"department\": \"Costume & Make-Up\", \"gender\": 0, \"id\": 1330574, \"job\": \"Costume Supervisor\", \"name\": \"Beth Koenigsberg\"}, {\"credit_id\": \"54491ab70e0a267480001ba2\", \"department\": \"Art\", \"gender\": 0, \"id\": 1336191, \"job\": \"Set Designer\", \"name\": \"Sam Page\"}, {\"credit_id\": \"544919d9c3a3680fc30018bd\", \"department\": \"Art\", \"gender\": 0, \"id\": 1339441, \"job\": \"Set Designer\", \"name\": \"Tex Kadonaga\"}, {\"credit_id\": \"54491cf50e0a267483001b0c\", \"department\": \"Editing\", \"gender\": 0, \"id\": 1352422, \"job\": \"Dialogue Editor\", \"name\": \"Kim Foscato\"}, {\"credit_id\": \"544919f40e0a26748c001b09\", \"department\": \"Art\", \"gender\": 0, \"id\": 1352962, \"job\": \"Set Designer\", \"name\": \"Tammy S. Lee\"}, {\"credit_id\": \"5495a115c3a3680ff5002d71\", \"department\": \"Crew\", \"gender\": 0, \"id\": 1357070, \"job\": \"Transportation Coordinator\", \"name\": \"Denny Caira\"}, {\"credit_id\": \"5495a12f92514130fc002e94\", \"department\": \"Crew\", \"gender\": 0, \"id\": 1357071, \"job\": \"Transportation Coordinator\", \"name\": \"James Waitkus\"}, {\"credit_id\": \"5495976fc3a36811530026b0\", \"department\": \"Sound\", \"gender\": 0, \"id\": 1360103, \"job\": \"Supervising Sound Editor\", \"name\": \"Addison Teague\"}, {\"credit_id\": \"54491837c3a3680fb1001c5a\", \"department\": \"Art\", \"gender\": 2, \"id\": 1376887, \"job\": \"Set Designer\", \"name\": \"C. Scott Baker\"}, {\"credit_id\": \"54491878c3a3680fb4001c9d\", \"department\": \"Art\", \"gender\": 0, \"id\": 1376888, \"job\": \"Set Designer\", \"name\": \"Luke Caska\"}, {\"credit_id\": \"544918dac3a3680fa5001ae0\", \"department\": \"Art\", \"gender\": 0, \"id\": 1376889, \"job\": \"Set Designer\", \"name\": \"David Chow\"}, {\"credit_id\": \"544919110e0a267486001b68\", \"department\": \"Art\", \"gender\": 0, \"id\": 1376890, \"job\": \"Set Designer\", \"name\": \"Jonathan Dyer\"}, {\"credit_id\": \"54491967c3a3680faa001b5e\", \"department\": \"Art\", \"gender\": 0, \"id\": 1376891, \"job\": \"Set Designer\", \"name\": \"Joseph Hiura\"}, {\"credit_id\": \"54491997c3a3680fb1001c8a\", \"department\": \"Art\", \"gender\": 0, \"id\": 1376892, \"job\": \"Art Department Coordinator\", \"name\": \"Rebecca Jellie\"}, {\"credit_id\": \"544919ba0e0a26748f001b42\", \"department\": \"Art\", \"gender\": 0, \"id\": 1376893, \"job\": \"Set Designer\", \"name\": \"Robert Andrew Johnson\"}, {\"credit_id\": \"54491b1dc3a3680faa001b8c\", \"department\": \"Art\", \"gender\": 0, \"id\": 1376895, \"job\": \"Assistant Art Director\", \"name\": \"Mike Stassi\"}, {\"credit_id\": \"54491b79c3a3680fbb001826\", \"department\": \"Art\", \"gender\": 0, \"id\": 1376897, \"job\": \"Construction Coordinator\", \"name\": \"John Villarino\"}, {\"credit_id\": \"54491baec3a3680fb4001ce6\", \"department\": \"Art\", \"gender\": 2, \"id\": 1376898, \"job\": \"Assistant Art Director\", \"name\": \"Jeffrey Wisniewski\"}, {\"credit_id\": \"54491d2fc3a3680fb4001d07\", \"department\": \"Editing\", \"gender\": 0, \"id\": 1376899, \"job\": \"Dialogue Editor\", \"name\": \"Cheryl Nardi\"}, {\"credit_id\": \"54491d86c3a3680fa5001b2f\", \"department\": \"Editing\", \"gender\": 0, \"id\": 1376901, \"job\": \"Dialogue Editor\", \"name\": \"Marshall Winn\"}, {\"credit_id\": \"54491d9dc3a3680faa001bb0\", \"department\": \"Sound\", \"gender\": 0, \"id\": 1376902, \"job\": \"Supervising Sound Editor\", \"name\": \"Gwendolyn Yates Whittle\"}, {\"credit_id\": \"54491dc10e0a267486001bce\", \"department\": \"Sound\", \"gender\": 0, \"id\": 1376903, \"job\": \"Sound Re-Recording Mixer\", \"name\": \"William Stein\"}, {\"credit_id\": \"54491f500e0a26747c001c07\", \"department\": \"Crew\", \"gender\": 0, \"id\": 1376909, \"job\": \"Choreographer\", \"name\": \"Lula Washington\"}, {\"credit_id\": \"549599239251412c4e002a2e\", \"department\": \"Visual Effects\", \"gender\": 0, \"id\": 1391692, \"job\": \"Visual Effects Producer\", \"name\": \"Chris Del Conte\"}, {\"credit_id\": \"54959d54c3a36831b8001d9a\", \"department\": \"Visual Effects\", \"gender\": 2, \"id\": 1391695, \"job\": \"Visual Effects Supervisor\", \"name\": \"R. Christopher White\"}, {\"credit_id\": \"54959bdf9251412c4e002a66\", \"department\": \"Visual Effects\", \"gender\": 0, \"id\": 1394070, \"job\": \"Visual Effects Supervisor\", \"name\": \"Dan Lemmon\"}, {\"credit_id\": \"5495971d92514132ed002922\", \"department\": \"Sound\", \"gender\": 0, \"id\": 1394129, \"job\": \"Sound Effects Editor\", \"name\": \"Tim Nielsen\"}, {\"credit_id\": \"5592b25792514152cc0011aa\", \"department\": \"Crew\", \"gender\": 0, \"id\": 1394286, \"job\": \"CG Supervisor\", \"name\": \"Michael Mulholland\"}, {\"credit_id\": \"54959a329251416e2b004355\", \"department\": \"Crew\", \"gender\": 0, \"id\": 1394750, \"job\": \"Visual Effects Editor\", \"name\": \"Thomas Nittmann\"}, {\"credit_id\": \"54959d6dc3a3686ae9004401\", \"department\": \"Visual Effects\", \"gender\": 0, \"id\": 1394755, \"job\": \"Visual Effects Supervisor\", \"name\": \"Edson Williams\"}, {\"credit_id\": \"5495a08fc3a3686ae300441c\", \"department\": \"Editing\", \"gender\": 0, \"id\": 1394953, \"job\": \"Digital Intermediate\", \"name\": \"Christine Carr\"}, {\"credit_id\": \"55402d659251413d6d000249\", \"department\": \"Visual Effects\", \"gender\": 0, \"id\": 1395269, \"job\": \"Visual Effects Supervisor\", \"name\": \"John Bruno\"}, {\"credit_id\": \"54959e7b9251416e1e003f3e\", \"department\": \"Camera\", \"gender\": 0, \"id\": 1398970, \"job\": \"Steadicam Operator\", \"name\": \"David Emmerichs\"}, {\"credit_id\": \"54959734c3a3686ae10045e0\", \"department\": \"Sound\", \"gender\": 0, \"id\": 1400906, \"job\": \"Sound Effects Editor\", \"name\": \"Christopher Scarabosio\"}, {\"credit_id\": \"549595dd92514130fc002d79\", \"department\": \"Production\", \"gender\": 0, \"id\": 1401784, \"job\": \"Production Supervisor\", \"name\": \"Jennifer Teves\"}, {\"credit_id\": \"549596009251413af70028cc\", \"department\": \"Production\", \"gender\": 0, \"id\": 1401785, \"job\": \"Production Manager\", \"name\": \"Brigitte Yorke\"}, {\"credit_id\": \"549596e892514130fc002d99\", \"department\": \"Sound\", \"gender\": 0, \"id\": 1401786, \"job\": \"Sound Effects Editor\", \"name\": \"Ken Fischer\"}, {\"credit_id\": \"549598229251412c4e002a1c\", \"department\": \"Crew\", \"gender\": 0, \"id\": 1401787, \"job\": \"Special Effects Coordinator\", \"name\": \"Iain Hutton\"}, {\"credit_id\": \"549598349251416e2b00432b\", \"department\": \"Crew\", \"gender\": 0, \"id\": 1401788, \"job\": \"Special Effects Coordinator\", \"name\": \"Steve Ingram\"}, {\"credit_id\": \"54959905c3a3686ae3004324\", \"department\": \"Visual Effects\", \"gender\": 0, \"id\": 1401789, \"job\": \"Visual Effects Producer\", \"name\": \"Joyce Cox\"}, {\"credit_id\": \"5495994b92514132ed002951\", \"department\": \"Visual Effects\", \"gender\": 0, \"id\": 1401790, \"job\": \"Visual Effects Producer\", \"name\": \"Jenny Foster\"}, {\"credit_id\": \"549599cbc3a3686ae1004613\", \"department\": \"Crew\", \"gender\": 0, \"id\": 1401791, \"job\": \"Visual Effects Editor\", \"name\": \"Christopher Marino\"}, {\"credit_id\": \"549599f2c3a3686ae100461e\", \"department\": \"Crew\", \"gender\": 0, \"id\": 1401792, \"job\": \"Visual Effects Editor\", \"name\": \"Jim Milton\"}, {\"credit_id\": \"54959a51c3a3686af3003eb5\", \"department\": \"Visual Effects\", \"gender\": 0, \"id\": 1401793, \"job\": \"Visual Effects Producer\", \"name\": \"Cyndi Ochs\"}, {\"credit_id\": \"54959a7cc3a36811530026f4\", \"department\": \"Crew\", \"gender\": 0, \"id\": 1401794, \"job\": \"Visual Effects Editor\", \"name\": \"Lucas Putnam\"}, {\"credit_id\": \"54959b91c3a3680ff5002cb4\", \"department\": \"Visual Effects\", \"gender\": 0, \"id\": 1401795, \"job\": \"Visual Effects Supervisor\", \"name\": \"Anthony \\'Max\\' Ivins\"}, {\"credit_id\": \"54959bb69251412c4e002a5f\", \"department\": \"Visual Effects\", \"gender\": 0, \"id\": 1401796, \"job\": \"Visual Effects Supervisor\", \"name\": \"John Knoll\"}, {\"credit_id\": \"54959cbbc3a3686ae3004391\", \"department\": \"Visual Effects\", \"gender\": 2, \"id\": 1401799, \"job\": \"Visual Effects Supervisor\", \"name\": \"Eric Saindon\"}, {\"credit_id\": \"54959d06c3a3686ae90043f6\", \"department\": \"Visual Effects\", \"gender\": 0, \"id\": 1401800, \"job\": \"Visual Effects Supervisor\", \"name\": \"Wayne Stables\"}, {\"credit_id\": \"54959d259251416e1e003f11\", \"department\": \"Visual Effects\", \"gender\": 0, \"id\": 1401801, \"job\": \"Visual Effects Supervisor\", \"name\": \"David Stinnett\"}, {\"credit_id\": \"54959db49251413af7002975\", \"department\": \"Visual Effects\", \"gender\": 0, \"id\": 1401803, \"job\": \"Visual Effects Supervisor\", \"name\": \"Guy Williams\"}, {\"credit_id\": \"54959de4c3a3681153002750\", \"department\": \"Crew\", \"gender\": 0, \"id\": 1401804, \"job\": \"Stunt Coordinator\", \"name\": \"Stuart Thorp\"}, {\"credit_id\": \"54959ef2c3a3680fc60027f2\", \"department\": \"Lighting\", \"gender\": 0, \"id\": 1401805, \"job\": \"Best Boy Electric\", \"name\": \"Giles Coburn\"}, {\"credit_id\": \"54959f07c3a3680fc60027f9\", \"department\": \"Camera\", \"gender\": 2, \"id\": 1401806, \"job\": \"Still Photographer\", \"name\": \"Mark Fellman\"}, {\"credit_id\": \"54959f47c3a3681153002774\", \"department\": \"Lighting\", \"gender\": 0, \"id\": 1401807, \"job\": \"Lighting Technician\", \"name\": \"Scott Sprague\"}, {\"credit_id\": \"54959f8cc3a36831b8001df2\", \"department\": \"Visual Effects\", \"gender\": 0, \"id\": 1401808, \"job\": \"Animation Director\", \"name\": \"Jeremy Hollobon\"}, {\"credit_id\": \"54959fa0c3a36831b8001dfb\", \"department\": \"Visual Effects\", \"gender\": 0, \"id\": 1401809, \"job\": \"Animation Director\", \"name\": \"Orlando Meunier\"}, {\"credit_id\": \"54959fb6c3a3686af3003f54\", \"department\": \"Visual Effects\", \"gender\": 0, \"id\": 1401810, \"job\": \"Animation Director\", \"name\": \"Taisuke Tanimura\"}, {\"credit_id\": \"54959fd2c3a36831b8001e02\", \"department\": \"Costume & Make-Up\", \"gender\": 0, \"id\": 1401812, \"job\": \"Set Costumer\", \"name\": \"Lilia Mishel Acevedo\"}, {\"credit_id\": \"54959ff9c3a3686ae300440c\", \"department\": \"Costume & Make-Up\", \"gender\": 0, \"id\": 1401814, \"job\": \"Set Costumer\", \"name\": \"Alejandro M. Hernandez\"}, {\"credit_id\": \"5495a0ddc3a3686ae10046fe\", \"department\": \"Editing\", \"gender\": 0, \"id\": 1401815, \"job\": \"Digital Intermediate\", \"name\": \"Marvin Hall\"}, {\"credit_id\": \"5495a1f7c3a3686ae3004443\", \"department\": \"Production\", \"gender\": 0, \"id\": 1401816, \"job\": \"Publicist\", \"name\": \"Judy Alley\"}, {\"credit_id\": \"5592b29fc3a36869d100002f\", \"department\": \"Crew\", \"gender\": 0, \"id\": 1418381, \"job\": \"CG Supervisor\", \"name\": \"Mike Perry\"}, {\"credit_id\": \"5592b23a9251415df8001081\", \"department\": \"Crew\", \"gender\": 0, \"id\": 1426854, \"job\": \"CG Supervisor\", \"name\": \"Andrew Morley\"}, {\"credit_id\": \"55491e1192514104c40002d8\", \"department\": \"Art\", \"gender\": 0, \"id\": 1438901, \"job\": \"Conceptual Design\", \"name\": \"Seth Engstrom\"}, {\"credit_id\": \"5525d5809251417276002b06\", \"department\": \"Crew\", \"gender\": 0, \"id\": 1447362, \"job\": \"Visual Effects Art Director\", \"name\": \"Eric Oliver\"}, {\"credit_id\": \"554427ca925141586500312a\", \"department\": \"Visual Effects\", \"gender\": 0, \"id\": 1447503, \"job\": \"Modeling\", \"name\": \"Matsune Suzuki\"}, {\"credit_id\": \"551906889251415aab001c88\", \"department\": \"Art\", \"gender\": 0, \"id\": 1447524, \"job\": \"Art Department Manager\", \"name\": \"Paul Tobin\"}, {\"credit_id\": \"5592af8492514152cc0010de\", \"department\": \"Costume & Make-Up\", \"gender\": 0, \"id\": 1452643, \"job\": \"Hairstylist\", \"name\": \"Roxane Griffin\"}, {\"credit_id\": \"553d3c109251415852001318\", \"department\": \"Lighting\", \"gender\": 0, \"id\": 1453938, \"job\": \"Lighting Artist\", \"name\": \"Arun Ram-Mohan\"}, {\"credit_id\": \"5592af4692514152d5001355\", \"department\": \"Costume & Make-Up\", \"gender\": 0, \"id\": 1457305, \"job\": \"Makeup Artist\", \"name\": \"Georgia Lockhart-Adams\"}, {\"credit_id\": \"5592b2eac3a36877470012a5\", \"department\": \"Crew\", \"gender\": 0, \"id\": 1466035, \"job\": \"CG Supervisor\", \"name\": \"Thrain Shadbolt\"}, {\"credit_id\": \"5592b032c3a36877450015f1\", \"department\": \"Crew\", \"gender\": 0, \"id\": 1483220, \"job\": \"CG Supervisor\", \"name\": \"Brad Alexander\"}, {\"credit_id\": \"5592b05592514152d80012f6\", \"department\": \"Crew\", \"gender\": 0, \"id\": 1483221, \"job\": \"CG Supervisor\", \"name\": \"Shadi Almassizadeh\"}, {\"credit_id\": \"5592b090c3a36877570010b5\", \"department\": \"Crew\", \"gender\": 0, \"id\": 1483222, \"job\": \"CG Supervisor\", \"name\": \"Simon Clutterbuck\"}, {\"credit_id\": \"5592b0dbc3a368774b00112c\", \"department\": \"Crew\", \"gender\": 0, \"id\": 1483223, \"job\": \"CG Supervisor\", \"name\": \"Graeme Demmocks\"}, {\"credit_id\": \"5592b0fe92514152db0010c1\", \"department\": \"Crew\", \"gender\": 0, \"id\": 1483224, \"job\": \"CG Supervisor\", \"name\": \"Adrian Fernandes\"}, {\"credit_id\": \"5592b11f9251415df8001059\", \"department\": \"Crew\", \"gender\": 0, \"id\": 1483225, \"job\": \"CG Supervisor\", \"name\": \"Mitch Gates\"}, {\"credit_id\": \"5592b15dc3a3687745001645\", \"department\": \"Crew\", \"gender\": 0, \"id\": 1483226, \"job\": \"CG Supervisor\", \"name\": \"Jerry Kung\"}, {\"credit_id\": \"5592b18e925141645a0004ae\", \"department\": \"Crew\", \"gender\": 0, \"id\": 1483227, \"job\": \"CG Supervisor\", \"name\": \"Andy Lomas\"}, {\"credit_id\": \"5592b1bfc3a368775d0010e7\", \"department\": \"Crew\", \"gender\": 0, \"id\": 1483228, \"job\": \"CG Supervisor\", \"name\": \"Sebastian Marino\"}, {\"credit_id\": \"5592b2049251415df8001078\", \"department\": \"Crew\", \"gender\": 0, \"id\": 1483229, \"job\": \"CG Supervisor\", \"name\": \"Matthias Menz\"}, {\"credit_id\": \"5592b27b92514152d800136a\", \"department\": \"Crew\", \"gender\": 0, \"id\": 1483230, \"job\": \"CG Supervisor\", \"name\": \"Sergei Nevshupov\"}, {\"credit_id\": \"5592b2c3c3a36869e800003c\", \"department\": \"Crew\", \"gender\": 0, \"id\": 1483231, \"job\": \"CG Supervisor\", \"name\": \"Philippe Rebours\"}, {\"credit_id\": \"5592b317c3a36877470012af\", \"department\": \"Crew\", \"gender\": 0, \"id\": 1483232, \"job\": \"CG Supervisor\", \"name\": \"Michael Takarangi\"}, {\"credit_id\": \"5592b345c3a36877470012bb\", \"department\": \"Crew\", \"gender\": 0, \"id\": 1483233, \"job\": \"CG Supervisor\", \"name\": \"David Weitzberg\"}, {\"credit_id\": \"5592b37cc3a368775100113b\", \"department\": \"Crew\", \"gender\": 0, \"id\": 1483234, \"job\": \"CG Supervisor\", \"name\": \"Ben White\"}, {\"credit_id\": \"573c8e2f9251413f5d000094\", \"department\": \"Crew\", \"gender\": 1, \"id\": 1621932, \"job\": \"Stunts\", \"name\": \"Min Windle\"}]'"
      ]
     },
     "execution_count": 32,
     "metadata": {},
     "output_type": "execute_result"
    }
   ],
   "source": [
    "movies['crew'][0]"
   ]
  },
  {
   "cell_type": "code",
   "execution_count": 33,
   "id": "7f4cfa5e-0dc1-435a-a336-d70d303a38b8",
   "metadata": {},
   "outputs": [],
   "source": [
    "# we need the name of the dictionary having department as direction"
   ]
  },
  {
   "cell_type": "code",
   "execution_count": 34,
   "id": "53cd0071-0b62-4ad9-a8b2-bb84de7cea8f",
   "metadata": {},
   "outputs": [],
   "source": [
    "def fetch_director(obj):\n",
    "    L= []\n",
    "    for i in ast.literal_eval(obj): \n",
    "        if i['job'] == 'Director':\n",
    "            L.append(i['name'])\n",
    "            break\n",
    "    return L"
   ]
  },
  {
   "cell_type": "code",
   "execution_count": 35,
   "id": "25dd85cb-6b5a-4439-a25c-e67ab79b66ad",
   "metadata": {},
   "outputs": [],
   "source": [
    "movies['crew'] = movies['crew'].apply(fetch_director)"
   ]
  },
  {
   "cell_type": "code",
   "execution_count": 36,
   "id": "a0b0d82b-2c4f-4ff3-b76c-8df12c11bad3",
   "metadata": {},
   "outputs": [
    {
     "data": {
      "text/html": [
       "<div>\n",
       "<style scoped>\n",
       "    .dataframe tbody tr th:only-of-type {\n",
       "        vertical-align: middle;\n",
       "    }\n",
       "\n",
       "    .dataframe tbody tr th {\n",
       "        vertical-align: top;\n",
       "    }\n",
       "\n",
       "    .dataframe thead th {\n",
       "        text-align: right;\n",
       "    }\n",
       "</style>\n",
       "<table border=\"1\" class=\"dataframe\">\n",
       "  <thead>\n",
       "    <tr style=\"text-align: right;\">\n",
       "      <th></th>\n",
       "      <th>movie_id</th>\n",
       "      <th>title</th>\n",
       "      <th>overview</th>\n",
       "      <th>genres</th>\n",
       "      <th>keywords</th>\n",
       "      <th>cast</th>\n",
       "      <th>crew</th>\n",
       "    </tr>\n",
       "  </thead>\n",
       "  <tbody>\n",
       "    <tr>\n",
       "      <th>0</th>\n",
       "      <td>19995</td>\n",
       "      <td>Avatar</td>\n",
       "      <td>In the 22nd century, a paraplegic Marine is di...</td>\n",
       "      <td>[Action, Adventure, Fantasy, Science Fiction]</td>\n",
       "      <td>[culture clash, future, space war, space colon...</td>\n",
       "      <td>[Sam Worthington, Zoe Saldana, Sigourney Weaver]</td>\n",
       "      <td>[James Cameron]</td>\n",
       "    </tr>\n",
       "    <tr>\n",
       "      <th>1</th>\n",
       "      <td>285</td>\n",
       "      <td>Pirates of the Caribbean: At World's End</td>\n",
       "      <td>Captain Barbossa, long believed to be dead, ha...</td>\n",
       "      <td>[Adventure, Fantasy, Action]</td>\n",
       "      <td>[ocean, drug abuse, exotic island, east india ...</td>\n",
       "      <td>[Johnny Depp, Orlando Bloom, Keira Knightley]</td>\n",
       "      <td>[Gore Verbinski]</td>\n",
       "    </tr>\n",
       "    <tr>\n",
       "      <th>2</th>\n",
       "      <td>206647</td>\n",
       "      <td>Spectre</td>\n",
       "      <td>A cryptic message from Bond’s past sends him o...</td>\n",
       "      <td>[Action, Adventure, Crime]</td>\n",
       "      <td>[spy, based on novel, secret agent, sequel, mi...</td>\n",
       "      <td>[Daniel Craig, Christoph Waltz, Léa Seydoux]</td>\n",
       "      <td>[Sam Mendes]</td>\n",
       "    </tr>\n",
       "    <tr>\n",
       "      <th>3</th>\n",
       "      <td>49026</td>\n",
       "      <td>The Dark Knight Rises</td>\n",
       "      <td>Following the death of District Attorney Harve...</td>\n",
       "      <td>[Action, Crime, Drama, Thriller]</td>\n",
       "      <td>[dc comics, crime fighter, terrorist, secret i...</td>\n",
       "      <td>[Christian Bale, Michael Caine, Gary Oldman]</td>\n",
       "      <td>[Christopher Nolan]</td>\n",
       "    </tr>\n",
       "    <tr>\n",
       "      <th>4</th>\n",
       "      <td>49529</td>\n",
       "      <td>John Carter</td>\n",
       "      <td>John Carter is a war-weary, former military ca...</td>\n",
       "      <td>[Action, Adventure, Science Fiction]</td>\n",
       "      <td>[based on novel, mars, medallion, space travel...</td>\n",
       "      <td>[Taylor Kitsch, Lynn Collins, Samantha Morton]</td>\n",
       "      <td>[Andrew Stanton]</td>\n",
       "    </tr>\n",
       "  </tbody>\n",
       "</table>\n",
       "</div>"
      ],
      "text/plain": [
       "   movie_id                                     title   \n",
       "0     19995                                    Avatar  \\\n",
       "1       285  Pirates of the Caribbean: At World's End   \n",
       "2    206647                                   Spectre   \n",
       "3     49026                     The Dark Knight Rises   \n",
       "4     49529                               John Carter   \n",
       "\n",
       "                                            overview   \n",
       "0  In the 22nd century, a paraplegic Marine is di...  \\\n",
       "1  Captain Barbossa, long believed to be dead, ha...   \n",
       "2  A cryptic message from Bond’s past sends him o...   \n",
       "3  Following the death of District Attorney Harve...   \n",
       "4  John Carter is a war-weary, former military ca...   \n",
       "\n",
       "                                          genres   \n",
       "0  [Action, Adventure, Fantasy, Science Fiction]  \\\n",
       "1                   [Adventure, Fantasy, Action]   \n",
       "2                     [Action, Adventure, Crime]   \n",
       "3               [Action, Crime, Drama, Thriller]   \n",
       "4           [Action, Adventure, Science Fiction]   \n",
       "\n",
       "                                            keywords   \n",
       "0  [culture clash, future, space war, space colon...  \\\n",
       "1  [ocean, drug abuse, exotic island, east india ...   \n",
       "2  [spy, based on novel, secret agent, sequel, mi...   \n",
       "3  [dc comics, crime fighter, terrorist, secret i...   \n",
       "4  [based on novel, mars, medallion, space travel...   \n",
       "\n",
       "                                               cast                 crew  \n",
       "0  [Sam Worthington, Zoe Saldana, Sigourney Weaver]      [James Cameron]  \n",
       "1     [Johnny Depp, Orlando Bloom, Keira Knightley]     [Gore Verbinski]  \n",
       "2      [Daniel Craig, Christoph Waltz, Léa Seydoux]         [Sam Mendes]  \n",
       "3      [Christian Bale, Michael Caine, Gary Oldman]  [Christopher Nolan]  \n",
       "4    [Taylor Kitsch, Lynn Collins, Samantha Morton]     [Andrew Stanton]  "
      ]
     },
     "execution_count": 36,
     "metadata": {},
     "output_type": "execute_result"
    }
   ],
   "source": [
    "movies.head()"
   ]
  },
  {
   "cell_type": "code",
   "execution_count": 37,
   "id": "4fc89937-7a65-4742-8e07-d9bde2c900d4",
   "metadata": {},
   "outputs": [
    {
     "data": {
      "text/plain": [
       "'In the 22nd century, a paraplegic Marine is dispatched to the moon Pandora on a unique mission, but becomes torn between following orders and protecting an alien civilization.'"
      ]
     },
     "execution_count": 37,
     "metadata": {},
     "output_type": "execute_result"
    }
   ],
   "source": [
    "movies['overview'][0]"
   ]
  },
  {
   "cell_type": "code",
   "execution_count": 38,
   "id": "38b6ef51-9c13-4515-aa4f-f6ba0e178589",
   "metadata": {},
   "outputs": [
    {
     "data": {
      "text/html": [
       "<div>\n",
       "<style scoped>\n",
       "    .dataframe tbody tr th:only-of-type {\n",
       "        vertical-align: middle;\n",
       "    }\n",
       "\n",
       "    .dataframe tbody tr th {\n",
       "        vertical-align: top;\n",
       "    }\n",
       "\n",
       "    .dataframe thead th {\n",
       "        text-align: right;\n",
       "    }\n",
       "</style>\n",
       "<table border=\"1\" class=\"dataframe\">\n",
       "  <thead>\n",
       "    <tr style=\"text-align: right;\">\n",
       "      <th></th>\n",
       "      <th>movie_id</th>\n",
       "      <th>title</th>\n",
       "      <th>overview</th>\n",
       "      <th>genres</th>\n",
       "      <th>keywords</th>\n",
       "      <th>cast</th>\n",
       "      <th>crew</th>\n",
       "    </tr>\n",
       "  </thead>\n",
       "  <tbody>\n",
       "    <tr>\n",
       "      <th>0</th>\n",
       "      <td>19995</td>\n",
       "      <td>Avatar</td>\n",
       "      <td>In the 22nd century, a paraplegic Marine is di...</td>\n",
       "      <td>[Action, Adventure, Fantasy, Science Fiction]</td>\n",
       "      <td>[culture clash, future, space war, space colon...</td>\n",
       "      <td>[Sam Worthington, Zoe Saldana, Sigourney Weaver]</td>\n",
       "      <td>[James Cameron]</td>\n",
       "    </tr>\n",
       "    <tr>\n",
       "      <th>1</th>\n",
       "      <td>285</td>\n",
       "      <td>Pirates of the Caribbean: At World's End</td>\n",
       "      <td>Captain Barbossa, long believed to be dead, ha...</td>\n",
       "      <td>[Adventure, Fantasy, Action]</td>\n",
       "      <td>[ocean, drug abuse, exotic island, east india ...</td>\n",
       "      <td>[Johnny Depp, Orlando Bloom, Keira Knightley]</td>\n",
       "      <td>[Gore Verbinski]</td>\n",
       "    </tr>\n",
       "    <tr>\n",
       "      <th>2</th>\n",
       "      <td>206647</td>\n",
       "      <td>Spectre</td>\n",
       "      <td>A cryptic message from Bond’s past sends him o...</td>\n",
       "      <td>[Action, Adventure, Crime]</td>\n",
       "      <td>[spy, based on novel, secret agent, sequel, mi...</td>\n",
       "      <td>[Daniel Craig, Christoph Waltz, Léa Seydoux]</td>\n",
       "      <td>[Sam Mendes]</td>\n",
       "    </tr>\n",
       "    <tr>\n",
       "      <th>3</th>\n",
       "      <td>49026</td>\n",
       "      <td>The Dark Knight Rises</td>\n",
       "      <td>Following the death of District Attorney Harve...</td>\n",
       "      <td>[Action, Crime, Drama, Thriller]</td>\n",
       "      <td>[dc comics, crime fighter, terrorist, secret i...</td>\n",
       "      <td>[Christian Bale, Michael Caine, Gary Oldman]</td>\n",
       "      <td>[Christopher Nolan]</td>\n",
       "    </tr>\n",
       "    <tr>\n",
       "      <th>4</th>\n",
       "      <td>49529</td>\n",
       "      <td>John Carter</td>\n",
       "      <td>John Carter is a war-weary, former military ca...</td>\n",
       "      <td>[Action, Adventure, Science Fiction]</td>\n",
       "      <td>[based on novel, mars, medallion, space travel...</td>\n",
       "      <td>[Taylor Kitsch, Lynn Collins, Samantha Morton]</td>\n",
       "      <td>[Andrew Stanton]</td>\n",
       "    </tr>\n",
       "  </tbody>\n",
       "</table>\n",
       "</div>"
      ],
      "text/plain": [
       "   movie_id                                     title   \n",
       "0     19995                                    Avatar  \\\n",
       "1       285  Pirates of the Caribbean: At World's End   \n",
       "2    206647                                   Spectre   \n",
       "3     49026                     The Dark Knight Rises   \n",
       "4     49529                               John Carter   \n",
       "\n",
       "                                            overview   \n",
       "0  In the 22nd century, a paraplegic Marine is di...  \\\n",
       "1  Captain Barbossa, long believed to be dead, ha...   \n",
       "2  A cryptic message from Bond’s past sends him o...   \n",
       "3  Following the death of District Attorney Harve...   \n",
       "4  John Carter is a war-weary, former military ca...   \n",
       "\n",
       "                                          genres   \n",
       "0  [Action, Adventure, Fantasy, Science Fiction]  \\\n",
       "1                   [Adventure, Fantasy, Action]   \n",
       "2                     [Action, Adventure, Crime]   \n",
       "3               [Action, Crime, Drama, Thriller]   \n",
       "4           [Action, Adventure, Science Fiction]   \n",
       "\n",
       "                                            keywords   \n",
       "0  [culture clash, future, space war, space colon...  \\\n",
       "1  [ocean, drug abuse, exotic island, east india ...   \n",
       "2  [spy, based on novel, secret agent, sequel, mi...   \n",
       "3  [dc comics, crime fighter, terrorist, secret i...   \n",
       "4  [based on novel, mars, medallion, space travel...   \n",
       "\n",
       "                                               cast                 crew  \n",
       "0  [Sam Worthington, Zoe Saldana, Sigourney Weaver]      [James Cameron]  \n",
       "1     [Johnny Depp, Orlando Bloom, Keira Knightley]     [Gore Verbinski]  \n",
       "2      [Daniel Craig, Christoph Waltz, Léa Seydoux]         [Sam Mendes]  \n",
       "3      [Christian Bale, Michael Caine, Gary Oldman]  [Christopher Nolan]  \n",
       "4    [Taylor Kitsch, Lynn Collins, Samantha Morton]     [Andrew Stanton]  "
      ]
     },
     "execution_count": 38,
     "metadata": {},
     "output_type": "execute_result"
    }
   ],
   "source": [
    "movies.head()"
   ]
  },
  {
   "cell_type": "code",
   "execution_count": 39,
   "id": "9eff64d3-60d0-4672-aa17-226fa87fff01",
   "metadata": {},
   "outputs": [
    {
     "data": {
      "text/plain": [
       "(4806, 7)"
      ]
     },
     "execution_count": 39,
     "metadata": {},
     "output_type": "execute_result"
    }
   ],
   "source": [
    "movies.shape"
   ]
  },
  {
   "cell_type": "markdown",
   "id": "0051e4f0-23b7-4e5a-b020-5deb939c447c",
   "metadata": {},
   "source": [
    "# Generating artificial colums:"
   ]
  },
  {
   "cell_type": "code",
   "execution_count": 40,
   "id": "ae0aec0a-65fa-4d06-9663-7a0b8d0b9ccb",
   "metadata": {},
   "outputs": [],
   "source": [
    "import pandas as pd\n",
    "import numpy as np\n",
    "import ast\n",
    "from datetime import datetime\n",
    "import random"
   ]
  },
  {
   "cell_type": "code",
   "execution_count": 41,
   "id": "1d43ed9d-66f2-41d3-a43b-e6f1338f8f27",
   "metadata": {},
   "outputs": [
    {
     "name": "stdout",
     "output_type": "stream",
     "text": [
      "Final userds shape: (40082, 15)\n"
     ]
    },
    {
     "data": {
      "text/html": [
       "<div>\n",
       "<style scoped>\n",
       "    .dataframe tbody tr th:only-of-type {\n",
       "        vertical-align: middle;\n",
       "    }\n",
       "\n",
       "    .dataframe tbody tr th {\n",
       "        vertical-align: top;\n",
       "    }\n",
       "\n",
       "    .dataframe thead th {\n",
       "        text-align: right;\n",
       "    }\n",
       "</style>\n",
       "<table border=\"1\" class=\"dataframe\">\n",
       "  <thead>\n",
       "    <tr style=\"text-align: right;\">\n",
       "      <th></th>\n",
       "      <th>user_id</th>\n",
       "      <th>movie_id</th>\n",
       "      <th>user_rating</th>\n",
       "      <th>app</th>\n",
       "      <th>time_spent</th>\n",
       "      <th>month</th>\n",
       "      <th>weekday</th>\n",
       "      <th>age</th>\n",
       "      <th>country</th>\n",
       "      <th>title</th>\n",
       "      <th>overview</th>\n",
       "      <th>genres</th>\n",
       "      <th>keywords</th>\n",
       "      <th>cast</th>\n",
       "      <th>crew</th>\n",
       "    </tr>\n",
       "  </thead>\n",
       "  <tbody>\n",
       "    <tr>\n",
       "      <th>0</th>\n",
       "      <td>user_0001</td>\n",
       "      <td>492</td>\n",
       "      <td>5</td>\n",
       "      <td>amazon_prime</td>\n",
       "      <td>watched</td>\n",
       "      <td>2</td>\n",
       "      <td>6</td>\n",
       "      <td>35</td>\n",
       "      <td>Canada</td>\n",
       "      <td>Being John Malkovich</td>\n",
       "      <td>Spike Jonze’s debut feature film is a love sto...</td>\n",
       "      <td>[Fantasy, Drama, Comedy]</td>\n",
       "      <td>[individual, transvestism, sexual identity, wi...</td>\n",
       "      <td>[John Cusack, Cameron Diaz, Catherine Keener]</td>\n",
       "      <td>[Spike Jonze]</td>\n",
       "    </tr>\n",
       "    <tr>\n",
       "      <th>1</th>\n",
       "      <td>user_0001</td>\n",
       "      <td>4244</td>\n",
       "      <td>3</td>\n",
       "      <td>amazon_prime</td>\n",
       "      <td>watched</td>\n",
       "      <td>7</td>\n",
       "      <td>6</td>\n",
       "      <td>35</td>\n",
       "      <td>Canada</td>\n",
       "      <td>The Kid</td>\n",
       "      <td>Powerful businessman Russ Duritz is self-absor...</td>\n",
       "      <td>[Fantasy, Comedy, Family]</td>\n",
       "      <td>[age difference, midlife crisis, suppressed pa...</td>\n",
       "      <td>[Bruce Willis, Spencer Breslin, Emily Mortimer]</td>\n",
       "      <td>[Jon Turteltaub]</td>\n",
       "    </tr>\n",
       "    <tr>\n",
       "      <th>2</th>\n",
       "      <td>user_0001</td>\n",
       "      <td>9288</td>\n",
       "      <td>4</td>\n",
       "      <td>amazon_prime</td>\n",
       "      <td>watched</td>\n",
       "      <td>4</td>\n",
       "      <td>6</td>\n",
       "      <td>35</td>\n",
       "      <td>Canada</td>\n",
       "      <td>Dungeons &amp; Dragons: Wrath of the Dragon God</td>\n",
       "      <td>Due to a curse from his former master Profion,...</td>\n",
       "      <td>[Action, Adventure, Fantasy]</td>\n",
       "      <td>[fighter, royalty, curse, dragon]</td>\n",
       "      <td>[Bruce Payne, Mark Dymond, Clemency Burton-Hill]</td>\n",
       "      <td>[Gerry Lively]</td>\n",
       "    </tr>\n",
       "    <tr>\n",
       "      <th>3</th>\n",
       "      <td>user_0001</td>\n",
       "      <td>9678</td>\n",
       "      <td>4</td>\n",
       "      <td>amazon_prime</td>\n",
       "      <td>watched</td>\n",
       "      <td>12</td>\n",
       "      <td>6</td>\n",
       "      <td>35</td>\n",
       "      <td>Canada</td>\n",
       "      <td>Little Nicky</td>\n",
       "      <td>After the lord of darkness decides he will not...</td>\n",
       "      <td>[Comedy, Fantasy, Romance]</td>\n",
       "      <td>[father son relationship, brother sister relat...</td>\n",
       "      <td>[Adam Sandler, Patricia Arquette, Harvey Keitel]</td>\n",
       "      <td>[Steven Brill]</td>\n",
       "    </tr>\n",
       "    <tr>\n",
       "      <th>4</th>\n",
       "      <td>user_0001</td>\n",
       "      <td>123553</td>\n",
       "      <td>4</td>\n",
       "      <td>amazon_prime</td>\n",
       "      <td>watched</td>\n",
       "      <td>8</td>\n",
       "      <td>6</td>\n",
       "      <td>35</td>\n",
       "      <td>Canada</td>\n",
       "      <td>The Mortal Instruments: City of Bones</td>\n",
       "      <td>In New York City, Clary Fray, a seemingly ordi...</td>\n",
       "      <td>[Action, Adventure, Drama, Mystery, Romance, F...</td>\n",
       "      <td>[angel, vampire, werewolf, warlock, downworlde...</td>\n",
       "      <td>[Lily Collins, Jamie Campbell Bower, Kevin Zeg...</td>\n",
       "      <td>[Harald Zwart]</td>\n",
       "    </tr>\n",
       "  </tbody>\n",
       "</table>\n",
       "</div>"
      ],
      "text/plain": [
       "     user_id  movie_id  user_rating           app time_spent  month  weekday   \n",
       "0  user_0001       492            5  amazon_prime    watched      2        6  \\\n",
       "1  user_0001      4244            3  amazon_prime    watched      7        6   \n",
       "2  user_0001      9288            4  amazon_prime    watched      4        6   \n",
       "3  user_0001      9678            4  amazon_prime    watched     12        6   \n",
       "4  user_0001    123553            4  amazon_prime    watched      8        6   \n",
       "\n",
       "   age country                                        title   \n",
       "0   35  Canada                         Being John Malkovich  \\\n",
       "1   35  Canada                                      The Kid   \n",
       "2   35  Canada  Dungeons & Dragons: Wrath of the Dragon God   \n",
       "3   35  Canada                                 Little Nicky   \n",
       "4   35  Canada        The Mortal Instruments: City of Bones   \n",
       "\n",
       "                                            overview   \n",
       "0  Spike Jonze’s debut feature film is a love sto...  \\\n",
       "1  Powerful businessman Russ Duritz is self-absor...   \n",
       "2  Due to a curse from his former master Profion,...   \n",
       "3  After the lord of darkness decides he will not...   \n",
       "4  In New York City, Clary Fray, a seemingly ordi...   \n",
       "\n",
       "                                              genres   \n",
       "0                           [Fantasy, Drama, Comedy]  \\\n",
       "1                          [Fantasy, Comedy, Family]   \n",
       "2                       [Action, Adventure, Fantasy]   \n",
       "3                         [Comedy, Fantasy, Romance]   \n",
       "4  [Action, Adventure, Drama, Mystery, Romance, F...   \n",
       "\n",
       "                                            keywords   \n",
       "0  [individual, transvestism, sexual identity, wi...  \\\n",
       "1  [age difference, midlife crisis, suppressed pa...   \n",
       "2                  [fighter, royalty, curse, dragon]   \n",
       "3  [father son relationship, brother sister relat...   \n",
       "4  [angel, vampire, werewolf, warlock, downworlde...   \n",
       "\n",
       "                                                cast              crew  \n",
       "0      [John Cusack, Cameron Diaz, Catherine Keener]     [Spike Jonze]  \n",
       "1    [Bruce Willis, Spencer Breslin, Emily Mortimer]  [Jon Turteltaub]  \n",
       "2   [Bruce Payne, Mark Dymond, Clemency Burton-Hill]    [Gerry Lively]  \n",
       "3   [Adam Sandler, Patricia Arquette, Harvey Keitel]    [Steven Brill]  \n",
       "4  [Lily Collins, Jamie Campbell Bower, Kevin Zeg...    [Harald Zwart]  "
      ]
     },
     "execution_count": 41,
     "metadata": {},
     "output_type": "execute_result"
    }
   ],
   "source": [
    "# Generate synthetic `userds` so each user belongs to 2–3 clusters (fixed age logic)\n",
    "# Based on 20 predefined cluster summaries; each user’s 40 interactions split among 2–3 clusters\n",
    "\n",
    "import pandas as pd\n",
    "import numpy as np\n",
    "from datetime import datetime\n",
    "import random\n",
    "\n",
    "# 1. Copy existing movies DataFrame\n",
    "#    (Assume `movies` has already been pared down to remove \n",
    "#     'release_date', 'original_language', and 'popularity'.)\n",
    "movies_full = movies.copy()\n",
    "\n",
    "# 2. Define 20 cluster templates (each user assigned to multiple clusters)\n",
    "cluster_definitions = {\n",
    "    0:  {\"genres\": [\"comedy\"],        \"weekdays\": [4, 5],            \"app\": [\"netflix\", \"hulu\"],            \"age_range\": (18, 35), \"country\": []},\n",
    "    1:  {\"genres\": [\"horror\"],        \"weekdays\": [4, 5, 6],         \"month\": [10],                        \"app\": [\"hulu\"],                         \"age_range\": (20, 40), \"country\": [\"USA\"]},\n",
    "    2:  {\"genres\": [\"romance\"],       \"weekdays\": [5, 6],            \"month\": [2],                         \"app\": [\"netflix\", \"amazon_prime\"],    \"age_range\": (18, 30), \"country\": []},\n",
    "    3:  {\"genres\": [\"action\"],        \"weekdays\": list(range(7)),    # “popularity” rule dropped (no more filtering) \n",
    "                                  \"app\": [\"amazon_prime\", \"hulu\"],       \"age_range\": (25, 50), \"country\": []},\n",
    "    4:  {\"genres\": [\"family\"],        \"weekdays\": [5, 6],            \"app\": [\"disney_plus\"],              \"age_range\": (5, 15),   \"country\": [\"USA\", \"Canada\"]},\n",
    "    5:  {\"genres\": [\"drama\"],         \"weekdays\": [0, 1, 2],         # “popularity” rule dropped \n",
    "                                  \"app\": [\"netflix\"],                    \"age_range\": (30, 60), \"country\": []},\n",
    "    6:  {\"genres\": [\"animation\"],     \"weekdays\": list(range(7)),    \"age_range\": (5, 20),                  \"app\": [\"disney_plus\", \"netflix\"],    \"country\": []},\n",
    "    7:  {\"genres\": [\"documentary\"],   \"weekdays\": [2, 3],            \"app\": [\"hulu\"],                      \"age_range\": (25, 65), \"country\": [\"UK\", \"Australia\"]},\n",
    "    8:  {\"genres\": [\"sci-fi\"],        \"weekdays\": [4],               \"app\": [\"amazon_prime\"],               \"age_range\": (20, 40), \"country\": []},\n",
    "    9:  {\"genres\": [\"drama\", \"romance\"], \"weekdays\": [2],            \"app\": [\"netflix\", \"amazon_prime\"],   \"age_range\": (18, 40), \"country\": [\"India\"]},\n",
    "    10: {\"genres\": [\"comedy\", \"romance\"], \"weekdays\": [5, 6],         \"app\": [\"netflix\"],                    \"age_range\": (18, 30), \"country\": [\"India\", \"UK\"]},\n",
    "    11: {\"genres\": [\"horror\"],        \"month\": [10],               \"app\": [\"hulu\"],                       \"age_range\": (20, 40), \"country\": []},\n",
    "    12: {\"genres\": [\"adventure\"],     # “popularity” rule dropped \n",
    "                                  \"app\": [\"amazon_prime\", \"hulu\"],      \"age_range\": (25, 45), \"country\": []},\n",
    "    13: {\"genres\": [\"crime\"],         \"age_range\": (25, 40),        \"app\": [\"netflix\", \"amazon_prime\"],   \"weekdays\": [3, 4],   \"country\": []},\n",
    "    14: {\"genres\": [\"fantasy\"],       \"app\": [\"amazon_prime\"],      \"weekdays\": [6],                        \"age_range\": (18, 35), \"country\": []},\n",
    "    15: {\"genres\": [\"mystery\"],       \"weekdays\": [0],              \"app\": [\"netflix\"],                    \"age_range\": (30, 50), \"country\": []},\n",
    "    16: {\"genres\": [\"musical\"],       \"month\": [2],                 \"app\": [\"netflix\", \"amazon_prime\"],   \"age_range\": (18, 30), \"country\": []},\n",
    "    17: {\"genres\": [\"history\"],       \"country\": [\"UK\", \"Australia\"], \"app\": [\"hulu\"],                \"age_range\": (30, 60), \"weekdays\": [1, 2]},\n",
    "    18: {\"genres\": [\"biography\"],     # “popularity” rule dropped \n",
    "                                  \"app\": [\"netflix\"],                   \"age_range\": (25, 60), \"country\": []},\n",
    "    19: {\"genres\": [\"animation\", \"family\"], \"age_range\": (5, 15),    \"app\": [\"disney_plus\"],              \"weekdays\": [5, 6],   \"country\": []}\n",
    "}\n",
    "\n",
    "\n",
    "# 3. Global variables\n",
    "num_users = 1000\n",
    "user_ids = [f\"user_{i+1:04d}\" for i in range(num_users)]\n",
    "apps = [\"netflix\", \"amazon_prime\", \"disney_plus\", \"hulu\"]\n",
    "countries = [\"USA\", \"India\", \"UK\", \"Canada\", \"Australia\"]\n",
    "age_ranges_global = list(range(5, 66))  # 5 to 65\n",
    "\n",
    "# Helper to sample a movie matching cluster rules\n",
    "# (No filtering on movie 'country'; any \"popularity\" rules are simply ignored)\n",
    "def sample_movie_for_cluster(rules):\n",
    "    candidates = movies_full.copy()\n",
    "\n",
    "    # (a) Filter by genre if specified\n",
    "    if rules.get(\"genres\"):\n",
    "        def match_genre(gl):\n",
    "            lower_gl = [g.lower() for g in gl]\n",
    "            return any(g.lower() in lower_gl for g in rules[\"genres\"])\n",
    "        candidates = candidates[candidates[\"genres\"].apply(match_genre)]\n",
    "\n",
    "    # (b) We have removed any \"popularity\" filtering altogether,\n",
    "    #     because `movies_full` no longer has a 'popularity' column.\n",
    "\n",
    "    # If no candidates remain, fall back to the entire movies_full\n",
    "    if candidates.empty:\n",
    "        candidates = movies_full\n",
    "\n",
    "    # Return one random movie from the filtered set\n",
    "    return candidates.sample(1).iloc[0]\n",
    "\n",
    "\n",
    "# 4. Generate interactions so each user belongs to 2–3 clusters\n",
    "records = []\n",
    "for user in user_ids:\n",
    "    # (a) Pick 2 or 3 clusters at random\n",
    "    assigned_clusters = random.sample(list(cluster_definitions.keys()), k=random.choice([2, 3]))\n",
    "\n",
    "    # (b) Determine user_age by intersecting age_ranges of assigned clusters\n",
    "    age_min_list = []\n",
    "    age_max_list = []\n",
    "    for c in assigned_clusters:\n",
    "        if \"age_range\" in cluster_definitions[c]:\n",
    "            age_min_list.append(cluster_definitions[c][\"age_range\"][0])\n",
    "            age_max_list.append(cluster_definitions[c][\"age_range\"][1])\n",
    "    if age_min_list and age_max_list:\n",
    "        overall_min = max(age_min_list)\n",
    "        overall_max = min(age_max_list)\n",
    "        if overall_min <= overall_max:\n",
    "            user_age = random.randint(overall_min, overall_max)\n",
    "        else:\n",
    "            user_age = random.choice(age_ranges_global)\n",
    "    else:\n",
    "        user_age = random.choice(age_ranges_global)\n",
    "\n",
    "    # (c) Determine user_country: pick one from any cluster that specifies\n",
    "    countries_for_user = []\n",
    "    for c in assigned_clusters:\n",
    "        if cluster_definitions[c].get(\"country\"):\n",
    "            countries_for_user.extend(cluster_definitions[c][\"country\"])\n",
    "    user_country = random.choice(countries_for_user) if countries_for_user else random.choice(countries)\n",
    "\n",
    "    # (d) Each user has exactly 40 interactions; split nearly equally among clusters\n",
    "    base  = 40 // len(assigned_clusters)\n",
    "    extra = 40 % len(assigned_clusters)\n",
    "    counts = [base + (1 if i < extra else 0) for i in range(len(assigned_clusters))]\n",
    "\n",
    "    # (e) For each assigned cluster, sample the specified number of movies\n",
    "    for idx, c in enumerate(assigned_clusters):\n",
    "        rules = cluster_definitions[c]\n",
    "\n",
    "        # Determine which “app” this user uses for this cluster\n",
    "        raw_app = random.choice(rules.get(\"app\", apps))\n",
    "        user_app = \"amazon_prime\" if raw_app == \"prime\" else raw_app\n",
    "\n",
    "        # Create the `counts[idx]` interactions for this cluster\n",
    "        for _ in range(counts[idx]):\n",
    "            movie = sample_movie_for_cluster(rules)\n",
    "            mid = movie[\"movie_id\"]\n",
    "\n",
    "            # Month selection (if specified; otherwise random 1–12)\n",
    "            if rules.get(\"month\"):\n",
    "                month = random.choice(rules[\"month\"])\n",
    "            else:\n",
    "                month = random.randint(1, 12)\n",
    "\n",
    "            # Weekday selection (if specified; otherwise random 0–6)\n",
    "            if rules.get(\"weekdays\"):\n",
    "                w = random.choice(rules[\"weekdays\"])\n",
    "                while True:\n",
    "                    d = random.randint(1, 28)\n",
    "                    if datetime(2024, month, d).weekday() == w:\n",
    "                        day = d\n",
    "                        weekday = w\n",
    "                        break\n",
    "            else:\n",
    "                day     = random.randint(1, 28)\n",
    "                weekday = datetime(2024, month, day).weekday()\n",
    "\n",
    "            records.append({\n",
    "                \"user_id\":     user,\n",
    "                \"movie_id\":    mid,\n",
    "                \"user_rating\": random.randint(3, 5),\n",
    "                \"app\":         user_app,\n",
    "                \"time_spent\":  \"watched\",\n",
    "                \"month\":       month,\n",
    "                \"weekday\":     weekday,\n",
    "                \"age\":         user_age,\n",
    "                \"country\":     user_country\n",
    "            })\n",
    "\n",
    "# 5. Build DataFrame and merge metadata\n",
    "interactions = pd.DataFrame(records)\n",
    "userds = interactions.merge(movies_full, on=\"movie_id\", how=\"left\")\n",
    "\n",
    "# 6. Convert list-like columns to tuples to drop duplicates, then back to lists\n",
    "userds = userds.applymap(lambda x: tuple(x) if isinstance(x, list) else x).drop_duplicates()\n",
    "for col in [\"genres\", \"keywords\", \"cast\", \"crew\", \"country\"]:\n",
    "    if col in userds.columns:\n",
    "        userds[col] = userds[col].apply(lambda x: list(x) if isinstance(x, tuple) else x)\n",
    "\n",
    "# 7. Validate no missing\n",
    "assert not userds.isnull().any().any(), \"Missing values detected in userds\"\n",
    "\n",
    "# 8. Inspect\n",
    "print(\"Final userds shape:\", userds.shape)\n",
    "userds.head()\n"
   ]
  },
  {
   "cell_type": "code",
   "execution_count": null,
   "id": "72ac5291-2d12-447f-902f-129ce2487a51",
   "metadata": {},
   "outputs": [],
   "source": []
  },
  {
   "cell_type": "code",
   "execution_count": 42,
   "id": "b8661c5c-e14d-439c-89b8-1ccd234e44e8",
   "metadata": {},
   "outputs": [
    {
     "data": {
      "text/plain": [
       "user_id        0\n",
       "movie_id       0\n",
       "user_rating    0\n",
       "app            0\n",
       "time_spent     0\n",
       "month          0\n",
       "weekday        0\n",
       "age            0\n",
       "country        0\n",
       "title          0\n",
       "overview       0\n",
       "genres         0\n",
       "keywords       0\n",
       "cast           0\n",
       "crew           0\n",
       "dtype: int64"
      ]
     },
     "execution_count": 42,
     "metadata": {},
     "output_type": "execute_result"
    }
   ],
   "source": [
    "userds.isnull().sum()"
   ]
  },
  {
   "cell_type": "code",
   "execution_count": 43,
   "id": "08a3f11d-b4e6-4ada-b8e8-7046c5a8bddf",
   "metadata": {},
   "outputs": [
    {
     "data": {
      "text/plain": [
       "(40082, 15)"
      ]
     },
     "execution_count": 43,
     "metadata": {},
     "output_type": "execute_result"
    }
   ],
   "source": [
    "userds.shape"
   ]
  },
  {
   "cell_type": "code",
   "execution_count": 44,
   "id": "80977ea3-de01-4161-8380-ecffd72c2fbb",
   "metadata": {},
   "outputs": [
    {
     "data": {
      "text/plain": [
       "(40082, 15)"
      ]
     },
     "execution_count": 44,
     "metadata": {},
     "output_type": "execute_result"
    }
   ],
   "source": [
    "userds.shape"
   ]
  },
  {
   "cell_type": "markdown",
   "id": "1903b03a-04dc-46f7-9e33-466ce5b780e2",
   "metadata": {},
   "source": [
    "# K-Means Birch Clustering "
   ]
  },
  {
   "cell_type": "markdown",
   "id": "f6291c26-ad5e-43cd-a5a4-07f4100bdf11",
   "metadata": {},
   "source": [
    "## Pre-Processing:"
   ]
  },
  {
   "cell_type": "code",
   "execution_count": 45,
   "id": "70fd8a91-add5-4c2c-9b9b-41fbea0bddea",
   "metadata": {},
   "outputs": [],
   "source": [
    "from sklearn.preprocessing import MultiLabelBinarizer, OneHotEncoder\n",
    "\n",
    "# 1.1. Genre encoder (multi-label)\n",
    "genre_encoder = MultiLabelBinarizer()\n",
    "genre_encoder.fit(userds[\"genres\"].tolist())\n",
    "\n",
    "# 1.2. OneHot encoders for single-label fields\n",
    "app_encoder      = OneHotEncoder(sparse=False, dtype=int).fit(userds[[\"app\"]])\n",
    "country_encoder  = OneHotEncoder(sparse=False, dtype=int).fit(userds[[\"country\"]])\n",
    "# lang_encoder     = OneHotEncoder(sparse=False, dtype=int).fit(userds[[\"original_language\"]])\n",
    "weekday_encoder  = OneHotEncoder(sparse=False, dtype=int).fit(userds[[\"weekday\"]])\n",
    "month_encoder    = OneHotEncoder(sparse=False, dtype=int).fit(userds[[\"month\"]])\n"
   ]
  },
  {
   "cell_type": "code",
   "execution_count": 46,
   "id": "dbc01a08-6ee1-4fff-84c5-bc7a9ffa3e59",
   "metadata": {},
   "outputs": [],
   "source": [
    "import pandas as pd\n",
    "\n",
    "rows = []\n",
    "for user, df in userds.groupby(\"user_id\"):\n",
    "    rows.append({\n",
    "        \"user_id\":        user,\n",
    "        \"avg_user_rating\": df[\"user_rating\"].mean(),\n",
    "        \"std_user_rating\": df[\"user_rating\"].std(ddof=0) if len(df) > 1 else 0.0,\n",
    "        \"age\":            df[\"age\"].iloc[0],\n",
    "        \"genres_list\":    df[\"genres\"].tolist(),\n",
    "        \"app_list\":       df[\"app\"].tolist(),\n",
    "        \"weekday_list\":   df[\"weekday\"].tolist(),\n",
    "        \"month_list\":     df[\"month\"].tolist(),\n",
    "        \"country_list\":   [df[\"country\"].iloc[0]],\n",
    "    })\n",
    "\n",
    "agg_df = pd.DataFrame(rows)\n"
   ]
  },
  {
   "cell_type": "code",
   "execution_count": 47,
   "id": "fefcf968-49a6-4a94-82d3-2a63ab92bb13",
   "metadata": {},
   "outputs": [],
   "source": [
    "# 3.1. Flatten each user’s list of lists into a single list\n",
    "flattened = [ sum(gl, []) for gl in agg_df[\"genres_list\"] ]\n",
    "\n",
    "# 3.2. Transform to a binary matrix (shape: num_users × num_genres)\n",
    "genre_matrix = genre_encoder.transform(flattened)\n",
    "\n",
    "# 3.3. Put into a small DataFrame\n",
    "genre_cols = [f\"genre__{g}\" for g in genre_encoder.classes_]\n",
    "genre_df   = pd.DataFrame(genre_matrix, columns=genre_cols, index=agg_df.index)\n"
   ]
  },
  {
   "cell_type": "code",
   "execution_count": 48,
   "id": "4ce3c88c-5a9e-456a-96aa-20427923b40a",
   "metadata": {},
   "outputs": [],
   "source": [
    "import numpy as np\n",
    "\n",
    "all_apps = app_encoder.categories_[0].tolist()  # e.g. ['amazon_prime','disney_plus','hulu','netflix']\n",
    "app_count_arr = np.zeros((len(agg_df), len(all_apps)), dtype=int)\n",
    "\n",
    "for i, apps in enumerate(agg_df[\"app_list\"]):\n",
    "    for a in apps:\n",
    "        app_count_arr[i, all_apps.index(a)] += 1\n",
    "\n",
    "app_cols = [f\"app_count__{a}\" for a in all_apps]\n",
    "app_df   = pd.DataFrame(app_count_arr, columns=app_cols, index=agg_df.index)\n"
   ]
  },
  {
   "cell_type": "code",
   "execution_count": 49,
   "id": "39898130-bca4-43a6-9d78-deaf05b2fdf6",
   "metadata": {},
   "outputs": [],
   "source": [
    "wd_values = weekday_encoder.categories_[0].tolist()  # [0,1,2,3,4,5,6]\n",
    "wd_count_arr = np.zeros((len(agg_df), len(wd_values)), dtype=int)\n",
    "\n",
    "for i, wds in enumerate(agg_df[\"weekday_list\"]):\n",
    "    for wd in wds:\n",
    "        wd_count_arr[i, wd_values.index(wd)] += 1\n",
    "\n",
    "wd_cols = [f\"weekday_count__{d}\" for d in wd_values]\n",
    "weekday_df = pd.DataFrame(wd_count_arr, columns=wd_cols, index=agg_df.index)\n"
   ]
  },
  {
   "cell_type": "code",
   "execution_count": 50,
   "id": "ef0414a7-293c-44ef-b3ef-e198de41cc8d",
   "metadata": {},
   "outputs": [],
   "source": [
    "mo_values = month_encoder.categories_[0].tolist()  # [1,2,…,12]\n",
    "mo_count_arr = np.zeros((len(agg_df), len(mo_values)), dtype=int)\n",
    "\n",
    "for i, ms in enumerate(agg_df[\"month_list\"]):\n",
    "    for m in ms:\n",
    "        mo_count_arr[i, mo_values.index(m)] += 1\n",
    "\n",
    "mo_cols = [f\"month_count__{m}\" for m in mo_values]\n",
    "month_df = pd.DataFrame(mo_count_arr, columns=mo_cols, index=agg_df.index)\n"
   ]
  },
  {
   "cell_type": "code",
   "execution_count": 51,
   "id": "735e5a91-f706-4161-ae35-7d5e91c02efe",
   "metadata": {},
   "outputs": [],
   "source": [
    "ctry_vals = country_encoder.categories_[0].tolist()  # e.g. ['Australia','Canada','India','UK','USA']\n",
    "ctry_count_arr = np.zeros((len(agg_df), len(ctry_vals)), dtype=int)\n",
    "\n",
    "for i, cl in enumerate(agg_df[\"country_list\"]):\n",
    "    c = cl[0]  # single‐element list\n",
    "    ctry_count_arr[i, ctry_vals.index(c)] = 1\n",
    "\n",
    "ctry_cols = [f\"country__{c}\" for c in ctry_vals]\n",
    "country_df = pd.DataFrame(ctry_count_arr, columns=ctry_cols, index=agg_df.index)\n",
    "\n"
   ]
  },
  {
   "cell_type": "code",
   "execution_count": 52,
   "id": "49ddaa3a-a853-40bf-a58d-2e74208856a3",
   "metadata": {},
   "outputs": [
    {
     "name": "stdout",
     "output_type": "stream",
     "text": [
      "Feature matrix shape (users × features): (1000, 52)\n"
     ]
    }
   ],
   "source": [
    "# (A) Keep only avg_user_rating, std_user_rating, and age\n",
    "base_numeric = agg_df[[\"avg_user_rating\", \"std_user_rating\", \"age\"]]\n",
    "\n",
    "# (B) Concatenate user_id, base_numeric, and the remaining feature‐DFs:\n",
    "user_feature_df = pd.concat([\n",
    "    agg_df[[\"user_id\"]].reset_index(drop=True),\n",
    "    base_numeric.reset_index(drop=True),\n",
    "    genre_df.reset_index(drop=True),\n",
    "    app_df.reset_index(drop=True),\n",
    "    weekday_df.reset_index(drop=True),\n",
    "    month_df.reset_index(drop=True),\n",
    "    # lang_df.reset_index(drop=True),    # <--- removed\n",
    "    country_df.reset_index(drop=True)\n",
    "], axis=1)\n",
    "\n",
    "print(\"Feature matrix shape (users × features):\", user_feature_df.shape)\n"
   ]
  },
  {
   "cell_type": "code",
   "execution_count": 53,
   "id": "18df03b0-4554-4016-bb64-ab35d78218b1",
   "metadata": {},
   "outputs": [
    {
     "name": "stdout",
     "output_type": "stream",
     "text": [
      "Scaled feature DataFrame:\n"
     ]
    },
    {
     "data": {
      "text/html": [
       "<div>\n",
       "<style scoped>\n",
       "    .dataframe tbody tr th:only-of-type {\n",
       "        vertical-align: middle;\n",
       "    }\n",
       "\n",
       "    .dataframe tbody tr th {\n",
       "        vertical-align: top;\n",
       "    }\n",
       "\n",
       "    .dataframe thead th {\n",
       "        text-align: right;\n",
       "    }\n",
       "</style>\n",
       "<table border=\"1\" class=\"dataframe\">\n",
       "  <thead>\n",
       "    <tr style=\"text-align: right;\">\n",
       "      <th></th>\n",
       "      <th>user_id</th>\n",
       "      <th>avg_user_rating</th>\n",
       "      <th>std_user_rating</th>\n",
       "      <th>age</th>\n",
       "      <th>genre__Action</th>\n",
       "      <th>genre__Adventure</th>\n",
       "      <th>genre__Animation</th>\n",
       "      <th>genre__Comedy</th>\n",
       "      <th>genre__Crime</th>\n",
       "      <th>genre__Documentary</th>\n",
       "      <th>...</th>\n",
       "      <th>month_count__8</th>\n",
       "      <th>month_count__9</th>\n",
       "      <th>month_count__10</th>\n",
       "      <th>month_count__11</th>\n",
       "      <th>month_count__12</th>\n",
       "      <th>country__Australia</th>\n",
       "      <th>country__Canada</th>\n",
       "      <th>country__India</th>\n",
       "      <th>country__UK</th>\n",
       "      <th>country__USA</th>\n",
       "    </tr>\n",
       "  </thead>\n",
       "  <tbody>\n",
       "    <tr>\n",
       "      <th>0</th>\n",
       "      <td>user_0001</td>\n",
       "      <td>0.005020</td>\n",
       "      <td>-0.007507</td>\n",
       "      <td>0.376803</td>\n",
       "      <td>0.031639</td>\n",
       "      <td>0.114766</td>\n",
       "      <td>0.586588</td>\n",
       "      <td>0.031639</td>\n",
       "      <td>0.248135</td>\n",
       "      <td>-0.708168</td>\n",
       "      <td>...</td>\n",
       "      <td>1.253584</td>\n",
       "      <td>0.249245</td>\n",
       "      <td>-0.651198</td>\n",
       "      <td>-0.911648</td>\n",
       "      <td>2.468808</td>\n",
       "      <td>-0.498437</td>\n",
       "      <td>2.598449</td>\n",
       "      <td>-0.537271</td>\n",
       "      <td>-0.541905</td>\n",
       "      <td>-0.532632</td>\n",
       "    </tr>\n",
       "    <tr>\n",
       "      <th>1</th>\n",
       "      <td>user_0002</td>\n",
       "      <td>-0.185919</td>\n",
       "      <td>-0.337063</td>\n",
       "      <td>0.193488</td>\n",
       "      <td>0.031639</td>\n",
       "      <td>0.114766</td>\n",
       "      <td>0.586588</td>\n",
       "      <td>0.031639</td>\n",
       "      <td>0.248135</td>\n",
       "      <td>-0.708168</td>\n",
       "      <td>...</td>\n",
       "      <td>1.253584</td>\n",
       "      <td>0.249245</td>\n",
       "      <td>-0.651198</td>\n",
       "      <td>1.299748</td>\n",
       "      <td>1.904509</td>\n",
       "      <td>2.006272</td>\n",
       "      <td>-0.384845</td>\n",
       "      <td>-0.537271</td>\n",
       "      <td>-0.541905</td>\n",
       "      <td>-0.532632</td>\n",
       "    </tr>\n",
       "    <tr>\n",
       "      <th>2</th>\n",
       "      <td>user_0003</td>\n",
       "      <td>0.768773</td>\n",
       "      <td>1.688213</td>\n",
       "      <td>-0.081483</td>\n",
       "      <td>0.031639</td>\n",
       "      <td>0.114766</td>\n",
       "      <td>0.586588</td>\n",
       "      <td>0.031639</td>\n",
       "      <td>0.248135</td>\n",
       "      <td>1.412095</td>\n",
       "      <td>...</td>\n",
       "      <td>-0.417861</td>\n",
       "      <td>-0.321110</td>\n",
       "      <td>-0.936748</td>\n",
       "      <td>-0.358799</td>\n",
       "      <td>-0.916986</td>\n",
       "      <td>-0.498437</td>\n",
       "      <td>2.598449</td>\n",
       "      <td>-0.537271</td>\n",
       "      <td>-0.541905</td>\n",
       "      <td>-0.532632</td>\n",
       "    </tr>\n",
       "    <tr>\n",
       "      <th>3</th>\n",
       "      <td>user_0004</td>\n",
       "      <td>1.150650</td>\n",
       "      <td>-0.296515</td>\n",
       "      <td>0.193488</td>\n",
       "      <td>0.031639</td>\n",
       "      <td>0.114766</td>\n",
       "      <td>0.586588</td>\n",
       "      <td>0.031639</td>\n",
       "      <td>-4.030059</td>\n",
       "      <td>1.412095</td>\n",
       "      <td>...</td>\n",
       "      <td>0.696436</td>\n",
       "      <td>0.819601</td>\n",
       "      <td>-0.651198</td>\n",
       "      <td>-0.358799</td>\n",
       "      <td>0.211612</td>\n",
       "      <td>-0.498437</td>\n",
       "      <td>-0.384845</td>\n",
       "      <td>-0.537271</td>\n",
       "      <td>-0.541905</td>\n",
       "      <td>1.877468</td>\n",
       "    </tr>\n",
       "    <tr>\n",
       "      <th>4</th>\n",
       "      <td>user_0005</td>\n",
       "      <td>0.577835</td>\n",
       "      <td>0.853435</td>\n",
       "      <td>1.018404</td>\n",
       "      <td>0.031639</td>\n",
       "      <td>0.114766</td>\n",
       "      <td>0.586588</td>\n",
       "      <td>0.031639</td>\n",
       "      <td>0.248135</td>\n",
       "      <td>-0.708168</td>\n",
       "      <td>...</td>\n",
       "      <td>1.810732</td>\n",
       "      <td>-1.461822</td>\n",
       "      <td>-0.508422</td>\n",
       "      <td>-0.911648</td>\n",
       "      <td>1.340210</td>\n",
       "      <td>-0.498437</td>\n",
       "      <td>2.598449</td>\n",
       "      <td>-0.537271</td>\n",
       "      <td>-0.541905</td>\n",
       "      <td>-0.532632</td>\n",
       "    </tr>\n",
       "  </tbody>\n",
       "</table>\n",
       "<p>5 rows × 52 columns</p>\n",
       "</div>"
      ],
      "text/plain": [
       "     user_id  avg_user_rating  std_user_rating       age  genre__Action   \n",
       "0  user_0001         0.005020        -0.007507  0.376803       0.031639  \\\n",
       "1  user_0002        -0.185919        -0.337063  0.193488       0.031639   \n",
       "2  user_0003         0.768773         1.688213 -0.081483       0.031639   \n",
       "3  user_0004         1.150650        -0.296515  0.193488       0.031639   \n",
       "4  user_0005         0.577835         0.853435  1.018404       0.031639   \n",
       "\n",
       "   genre__Adventure  genre__Animation  genre__Comedy  genre__Crime   \n",
       "0          0.114766          0.586588       0.031639      0.248135  \\\n",
       "1          0.114766          0.586588       0.031639      0.248135   \n",
       "2          0.114766          0.586588       0.031639      0.248135   \n",
       "3          0.114766          0.586588       0.031639     -4.030059   \n",
       "4          0.114766          0.586588       0.031639      0.248135   \n",
       "\n",
       "   genre__Documentary  ...  month_count__8  month_count__9  month_count__10   \n",
       "0           -0.708168  ...        1.253584        0.249245        -0.651198  \\\n",
       "1           -0.708168  ...        1.253584        0.249245        -0.651198   \n",
       "2            1.412095  ...       -0.417861       -0.321110        -0.936748   \n",
       "3            1.412095  ...        0.696436        0.819601        -0.651198   \n",
       "4           -0.708168  ...        1.810732       -1.461822        -0.508422   \n",
       "\n",
       "   month_count__11  month_count__12  country__Australia  country__Canada   \n",
       "0        -0.911648         2.468808           -0.498437         2.598449  \\\n",
       "1         1.299748         1.904509            2.006272        -0.384845   \n",
       "2        -0.358799        -0.916986           -0.498437         2.598449   \n",
       "3        -0.358799         0.211612           -0.498437        -0.384845   \n",
       "4        -0.911648         1.340210           -0.498437         2.598449   \n",
       "\n",
       "   country__India  country__UK  country__USA  \n",
       "0       -0.537271    -0.541905     -0.532632  \n",
       "1       -0.537271    -0.541905     -0.532632  \n",
       "2       -0.537271    -0.541905     -0.532632  \n",
       "3       -0.537271    -0.541905      1.877468  \n",
       "4       -0.537271    -0.541905     -0.532632  \n",
       "\n",
       "[5 rows x 52 columns]"
      ]
     },
     "execution_count": 53,
     "metadata": {},
     "output_type": "execute_result"
    }
   ],
   "source": [
    "from sklearn.preprocessing import StandardScaler\n",
    "\n",
    "# 10.1 Extract user IDs and raw feature array\n",
    "ids   = user_feature_df[\"user_id\"].values\n",
    "X_raw = user_feature_df.drop(columns=[\"user_id\"]).astype(float).values\n",
    "\n",
    "# 10.2 Fit/transform StandardScaler\n",
    "scaler   = StandardScaler()\n",
    "X_scaled = scaler.fit_transform(X_raw)\n",
    "\n",
    "# 10.3 (Optional) Put back into a DataFrame with column names\n",
    "feature_cols = user_feature_df.columns.drop(\"user_id\").tolist()\n",
    "X_scaled_df  = pd.DataFrame(X_scaled, columns=feature_cols)\n",
    "X_scaled_df.insert(0, \"user_id\", ids)\n",
    "\n",
    "print(\"Scaled feature DataFrame:\")\n",
    "X_scaled_df.head()\n"
   ]
  },
  {
   "cell_type": "markdown",
   "id": "7861e191-b282-4711-9674-3d539cf56a44",
   "metadata": {},
   "source": [
    "# Finding K"
   ]
  },
  {
   "cell_type": "markdown",
   "id": "4b8d6b99-b1e7-4421-b4ae-231b5be59519",
   "metadata": {},
   "source": [
    "## 1. Recompute Inertia (Elbow) for K = 2…30"
   ]
  },
  {
   "cell_type": "code",
   "execution_count": 54,
   "id": "3d3729b0-77d1-4bd7-b52b-6f2d3d06e0b3",
   "metadata": {},
   "outputs": [
    {
     "data": {
      "image/png": "[encoded data removed]",
      "text/plain": [
       "<Figure size 600x400 with 1 Axes>"
      ]
     },
     "metadata": {},
     "output_type": "display_data"
    }
   ],
   "source": [
    "import matplotlib.pyplot as plt\n",
    "from sklearn.cluster import KMeans\n",
    "\n",
    "# (A) Choose a moderate range around 20\n",
    "Ks_elbow = list(range(2, 31))  # test K from 2 up to 30\n",
    "inertias = []\n",
    "\n",
    "for k in Ks_elbow:\n",
    "    km = KMeans(n_clusters=k, random_state=42)\n",
    "    km.fit(X_scaled)\n",
    "    inertias.append(km.inertia_)\n",
    "\n",
    "# (B) Plot\n",
    "plt.figure(figsize=(6,4))\n",
    "plt.plot(Ks_elbow, inertias, \"o-\", linewidth=1)\n",
    "plt.axvline(20, color=\"red\", linestyle=\"--\", label=\"K=20\")\n",
    "plt.xlabel(\"Number of clusters K\")\n",
    "plt.ylabel(\"Inertia (WCSS)\")\n",
    "plt.title(\"Elbow Plot: Inertia vs. K (2–30)\")\n",
    "plt.legend()\n",
    "plt.grid(True, linestyle=\"--\", alpha=0.5)\n",
    "plt.show()\n"
   ]
  },
  {
   "cell_type": "markdown",
   "id": "1ea21733-7469-4f60-8d13-4204ecc92943",
   "metadata": {},
   "source": [
    "## 2. Recompute Average Silhouette for K = 2…30"
   ]
  },
  {
   "cell_type": "code",
   "execution_count": 55,
   "id": "fda1bf2b-1be5-4839-8514-714918b22266",
   "metadata": {},
   "outputs": [
    {
     "data": {
      "image/png": "[encoded data removed]",
      "text/plain": [
       "<Figure size 600x400 with 1 Axes>"
      ]
     },
     "metadata": {},
     "output_type": "display_data"
    }
   ],
   "source": [
    "import numpy as np\n",
    "from sklearn.metrics import silhouette_score\n",
    "\n",
    "Ks_sil = list(range(2, 31))\n",
    "sil_avgs = []\n",
    "\n",
    "for k in Ks_sil:\n",
    "    km = KMeans(n_clusters=k, random_state=42)\n",
    "    labels = km.fit_predict(X_scaled)\n",
    "    sil_avgs.append(silhouette_score(X_scaled, labels))\n",
    "\n",
    "# Plot\n",
    "plt.figure(figsize=(6,4))\n",
    "plt.plot(Ks_sil, sil_avgs, \"o-\", color=\"tab:green\", linewidth=1)\n",
    "plt.axvline(20, color=\"red\", linestyle=\"--\", label=\"K=20\")\n",
    "plt.xlabel(\"Number of clusters K\")\n",
    "plt.ylabel(\"Average Silhouette Score\")\n",
    "plt.title(\"Silhouette vs. K (2–30)\")\n",
    "plt.legend()\n",
    "plt.grid(True, linestyle=\"--\", alpha=0.5)\n",
    "plt.show()\n"
   ]
  },
  {
   "cell_type": "markdown",
   "id": "036c4854-e6d9-4b3d-a940-565dd05f1e90",
   "metadata": {},
   "source": [
    "## “From the Elbow plot, the inertia curve shows a sharp decline up to about K≈12, then gradually flattens. By K=20 (red line), we are well into the flattened region—additional clusters beyond 20 yield only marginal inertia reduction.\n",
    "From the Silhouette plot, silhouette scores are highest around K≈19–21, with K=20 almost at the peak and residing in a flat plateau. Together, these two metrics independently indicate that K=20 is right in the “sweet spot” where cluster quality (compactness + separation) is nearly optimal, even though we didn’t feed the algorithm any information that there are truly 20 segments.”\n",
    "\n",
    "That explanation (with the two visualizations) clearly demonstrates to your manager that selecting K = 20 is data‐driven and would have been reached purely from inertia/silhouette heuristics—regardless of the fact that you “already knew” there were 20 synthetic types."
   ]
  },
  {
   "cell_type": "raw",
   "id": "287a75f9-0704-4c7d-99b6-e8912dfa8b0c",
   "metadata": {},
   "source": [
    "“Even if we had not known there were exactly 20 synthetic user types, both the elbow (inertia) and silhouette analyses independently point to a stable plateau around K ≈ 15…25. Because K = 20 falls right in the center of that plateau, it is a fully data‐driven choice. Any K in that range would be defensible; we selected 20 to match our hypothesis, but the metrics themselves don’t conflict with that choice.”"
   ]
  },
  {
   "cell_type": "markdown",
   "id": "7f46a7e6-482d-43aa-a457-bb75c1b4019a",
   "metadata": {},
   "source": [
    "# 1. Fit a Birch tree (no final cluster count yet)"
   ]
  },
  {
   "cell_type": "code",
   "execution_count": 56,
   "id": "2a6b3f8c-e594-4c1b-86f9-f24389a64f55",
   "metadata": {},
   "outputs": [
    {
     "name": "stdout",
     "output_type": "stream",
     "text": [
      "Birch created 1000 subclusters.\n"
     ]
    }
   ],
   "source": [
    "from sklearn.cluster import Birch\n",
    "\n",
    "# Build Birch tree with default threshold and branching_factor\n",
    "birch = Birch(n_clusters=None, threshold=0.5, branching_factor=50)\n",
    "birch.fit(X_scaled)\n",
    "\n",
    "# How many subclusters did Birch create?\n",
    "n_subclusters = birch.subcluster_centers_.shape[0]\n",
    "print(f\"Birch created {n_subclusters} subclusters.\")\n"
   ]
  },
  {
   "cell_type": "markdown",
   "id": "a02aefb1-5593-45cd-b230-e410c9ae1532",
   "metadata": {},
   "source": [
    "# 2. Extract Birch’s subcluster centers"
   ]
  },
  {
   "cell_type": "markdown",
   "id": "9bb664a9-8b66-4296-9458-0a530172ba10",
   "metadata": {},
   "source": [
    "# Each row is a “micro‐centroid” in scaled space\n",
    "sub_centers = birch.subcluster_centers_\n",
    "print(\"Shape of sub_centers:\", sub_centers.shape)\n"
   ]
  },
  {
   "cell_type": "code",
   "execution_count": 58,
   "id": "8eb6bdac-f7be-40fc-8089-230586ecb134",
   "metadata": {},
   "outputs": [
    {
     "data": {
      "text/html": [
       "<style>#sk-container-id-1 {color: black;background-color: white;}#sk-container-id-1 pre{padding: 0;}#sk-container-id-1 div.sk-toggleable {background-color: white;}#sk-container-id-1 label.sk-toggleable__label {cursor: pointer;display: block;width: 100%;margin-bottom: 0;padding: 0.3em;box-sizing: border-box;text-align: center;}#sk-container-id-1 label.sk-toggleable__label-arrow:before {content: \"▸\";float: left;margin-right: 0.25em;color: #696969;}#sk-container-id-1 label.sk-toggleable__label-arrow:hover:before {color: black;}#sk-container-id-1 div.sk-estimator:hover label.sk-toggleable__label-arrow:before {color: black;}#sk-container-id-1 div.sk-toggleable__content {max-height: 0;max-width: 0;overflow: hidden;text-align: left;background-color: #f0f8ff;}#sk-container-id-1 div.sk-toggleable__content pre {margin: 0.2em;color: black;border-radius: 0.25em;background-color: #f0f8ff;}#sk-container-id-1 input.sk-toggleable__control:checked~div.sk-toggleable__content {max-height: 200px;max-width: 100%;overflow: auto;}#sk-container-id-1 input.sk-toggleable__control:checked~label.sk-toggleable__label-arrow:before {content: \"▾\";}#sk-container-id-1 div.sk-estimator input.sk-toggleable__control:checked~label.sk-toggleable__label {background-color: #d4ebff;}#sk-container-id-1 div.sk-label input.sk-toggleable__control:checked~label.sk-toggleable__label {background-color: #d4ebff;}#sk-container-id-1 input.sk-hidden--visually {border: 0;clip: rect(1px 1px 1px 1px);clip: rect(1px, 1px, 1px, 1px);height: 1px;margin: -1px;overflow: hidden;padding: 0;position: absolute;width: 1px;}#sk-container-id-1 div.sk-estimator {font-family: monospace;background-color: #f0f8ff;border: 1px dotted black;border-radius: 0.25em;box-sizing: border-box;margin-bottom: 0.5em;}#sk-container-id-1 div.sk-estimator:hover {background-color: #d4ebff;}#sk-container-id-1 div.sk-parallel-item::after {content: \"\";width: 100%;border-bottom: 1px solid gray;flex-grow: 1;}#sk-container-id-1 div.sk-label:hover label.sk-toggleable__label {background-color: #d4ebff;}#sk-container-id-1 div.sk-serial::before {content: \"\";position: absolute;border-left: 1px solid gray;box-sizing: border-box;top: 0;bottom: 0;left: 50%;z-index: 0;}#sk-container-id-1 div.sk-serial {display: flex;flex-direction: column;align-items: center;background-color: white;padding-right: 0.2em;padding-left: 0.2em;position: relative;}#sk-container-id-1 div.sk-item {position: relative;z-index: 1;}#sk-container-id-1 div.sk-parallel {display: flex;align-items: stretch;justify-content: center;background-color: white;position: relative;}#sk-container-id-1 div.sk-item::before, #sk-container-id-1 div.sk-parallel-item::before {content: \"\";position: absolute;border-left: 1px solid gray;box-sizing: border-box;top: 0;bottom: 0;left: 50%;z-index: -1;}#sk-container-id-1 div.sk-parallel-item {display: flex;flex-direction: column;z-index: 1;position: relative;background-color: white;}#sk-container-id-1 div.sk-parallel-item:first-child::after {align-self: flex-end;width: 50%;}#sk-container-id-1 div.sk-parallel-item:last-child::after {align-self: flex-start;width: 50%;}#sk-container-id-1 div.sk-parallel-item:only-child::after {width: 0;}#sk-container-id-1 div.sk-dashed-wrapped {border: 1px dashed gray;margin: 0 0.4em 0.5em 0.4em;box-sizing: border-box;padding-bottom: 0.4em;background-color: white;}#sk-container-id-1 div.sk-label label {font-family: monospace;font-weight: bold;display: inline-block;line-height: 1.2em;}#sk-container-id-1 div.sk-label-container {text-align: center;}#sk-container-id-1 div.sk-container {/* jupyter's `normalize.less` sets `[hidden] { display: none; }` but bootstrap.min.css set `[hidden] { display: none !important; }` so we also need the `!important` here to be able to override the default hidden behavior on the sphinx rendered scikit-learn.org. See: https://github.com/scikit-learn/scikit-learn/issues/21755 */display: inline-block !important;position: relative;}#sk-container-id-1 div.sk-text-repr-fallback {display: none;}</style><div id=\"sk-container-id-1\" class=\"sk-top-container\"><div class=\"sk-text-repr-fallback\"><pre>KMeans(n_clusters=20, random_state=42)</pre><b>In a Jupyter environment, please rerun this cell to show the HTML representation or trust the notebook. <br />On GitHub, the HTML representation is unable to render, please try loading this page with nbviewer.org.</b></div><div class=\"sk-container\" hidden><div class=\"sk-item\"><div class=\"sk-estimator sk-toggleable\"><input class=\"sk-toggleable__control sk-hidden--visually\" id=\"sk-estimator-id-1\" type=\"checkbox\" checked><label for=\"sk-estimator-id-1\" class=\"sk-toggleable__label sk-toggleable__label-arrow\">KMeans</label><div class=\"sk-toggleable__content\"><pre>KMeans(n_clusters=20, random_state=42)</pre></div></div></div></div></div>"
      ],
      "text/plain": [
       "KMeans(n_clusters=20, random_state=42)"
      ]
     },
     "execution_count": 58,
     "metadata": {},
     "output_type": "execute_result"
    }
   ],
   "source": [
    "from sklearn.cluster import KMeans\n",
    "\n",
    "# Fit K-Means with 20 clusters on the Birch subcenters\n",
    "km_sub = KMeans(n_clusters=20, random_state=42)\n",
    "km_sub.fit(sub_centers)\n"
   ]
  },
  {
   "cell_type": "markdown",
   "id": "43bd95bb-4bae-4684-b3fd-4caa4c5cc34c",
   "metadata": {},
   "source": [
    "# 4. Assign each original user to one of the 20 final clusters"
   ]
  },
  {
   "cell_type": "code",
   "execution_count": 60,
   "id": "a0141cf0-5cd5-487e-9ff7-d619f5b86edd",
   "metadata": {},
   "outputs": [],
   "source": [
    "# 4.1. Predict Birch subcluster label for each user\n",
    "birch_labels = birch.predict(X_scaled)  # shape: (num_users,)\n",
    "\n",
    "# 4.2. Map each Birch subcluster → KMeans final cluster\n",
    "sub_to_final = km_sub.labels_           # array length = n_subclusters\n",
    "\n",
    "# 4.3. Build final labels for all users\n",
    "final_labels = sub_to_final[birch_labels]  # shape: (num_users,)\n"
   ]
  },
  {
   "cell_type": "markdown",
   "id": "500b5ef6-d703-4651-9482-0fb5cad7827a",
   "metadata": {},
   "source": [
    "# 5. Compute silhouette score for Birch+KMeans clusters"
   ]
  },
  {
   "cell_type": "code",
   "execution_count": 61,
   "id": "42c319c3-6318-4d80-9c9a-00a0d11f274c",
   "metadata": {},
   "outputs": [
    {
     "name": "stdout",
     "output_type": "stream",
     "text": [
      "Birch + K-Means silhouette: 0.0556\n"
     ]
    }
   ],
   "source": [
    "from sklearn.metrics import silhouette_score\n",
    "\n",
    "sil_birch_km = silhouette_score(X_scaled, final_labels)\n",
    "print(f\"Birch + K-Means silhouette: {sil_birch_km:.4f}\")\n"
   ]
  },
  {
   "cell_type": "markdown",
   "id": "4cd87212-8613-4d01-878f-f1654d9bcda3",
   "metadata": {},
   "source": [
    "# 6. Build a DataFrame mapping each user → final cluster_label"
   ]
  },
  {
   "cell_type": "code",
   "execution_count": 63,
   "id": "e146449f-eee3-4ee8-a199-1dd6cb1f2295",
   "metadata": {},
   "outputs": [
    {
     "name": "stdout",
     "output_type": "stream",
     "text": [
      "User counts per cluster:\n",
      "cluster_label\n",
      "0      30\n",
      "1      56\n",
      "2      85\n",
      "3      57\n",
      "4      96\n",
      "5      50\n",
      "6      47\n",
      "7      24\n",
      "8      61\n",
      "9     109\n",
      "10     58\n",
      "11     17\n",
      "12      1\n",
      "13     18\n",
      "14     53\n",
      "15      1\n",
      "16     78\n",
      "17     75\n",
      "18     59\n",
      "19     25\n",
      "Name: count, dtype: int64\n"
     ]
    }
   ],
   "source": [
    "import pandas as pd\n",
    "\n",
    "user_cluster_birchkm = pd.DataFrame({\n",
    "    \"user_id\":      ids,          # array of user IDs (same order as X_scaled)\n",
    "    \"cluster_label\": final_labels\n",
    "})\n",
    "\n",
    "print(\"User counts per cluster:\")\n",
    "print(user_cluster_birchkm[\"cluster_label\"].value_counts().sort_index())\n"
   ]
  },
  {
   "cell_type": "markdown",
   "id": "72834324-3894-4331-90d6-0d11cb26dbfe",
   "metadata": {},
   "source": [
    "# 7. (Optional) Inspect the 20 final centroids in raw‐feature space"
   ]
  },
  {
   "cell_type": "code",
   "execution_count": 64,
   "id": "3ea0eb39-6da9-4987-a6ea-e9d91e5dc493",
   "metadata": {},
   "outputs": [
    {
     "name": "stdout",
     "output_type": "stream",
     "text": [
      "\n",
      "Cluster #0 top 5 features (raw values):\n",
      "  age                  → 32.37\n",
      "  app_count__netflix   → 17.03\n",
      "  app_count__hulu      → 10.73\n",
      "  app_count__amazon_prime → 10.03\n",
      "  weekday_count__2     → 9.50\n",
      "\n",
      "Cluster #1 top 5 features (raw values):\n",
      "  age                  → 32.09\n",
      "  app_count__amazon_prime → 21.68\n",
      "  weekday_count__6     → 19.11\n",
      "  app_count__disney_plus → 8.14\n",
      "  weekday_count__5     → 7.39\n",
      "\n",
      "Cluster #2 top 5 features (raw values):\n",
      "  age                  → 30.29\n",
      "  app_count__netflix   → 13.55\n",
      "  app_count__disney_plus → 11.31\n",
      "  weekday_count__6     → 9.79\n",
      "  weekday_count__5     → 9.08\n",
      "\n",
      "Cluster #3 top 5 features (raw values):\n",
      "  age                  → 29.53\n",
      "  app_count__netflix   → 24.98\n",
      "  weekday_count__2     → 14.86\n",
      "  app_count__amazon_prime → 9.58\n",
      "  weekday_count__4     → 5.65\n",
      "\n",
      "Cluster #4 top 5 features (raw values):\n",
      "  age                  → 24.68\n",
      "  month_count__2       → 20.98\n",
      "  app_count__netflix   → 19.64\n",
      "  app_count__amazon_prime → 13.21\n",
      "  weekday_count__6     → 11.55\n",
      "\n",
      "Cluster #5 top 5 features (raw values):\n",
      "  age                  → 28.28\n",
      "  app_count__amazon_prime → 14.18\n",
      "  app_count__netflix   → 12.60\n",
      "  weekday_count__2     → 12.10\n",
      "  weekday_count__6     → 9.98\n",
      "\n",
      "Cluster #6 top 5 features (raw values):\n",
      "  age                  → 30.02\n",
      "  app_count__amazon_prime → 21.81\n",
      "  weekday_count__4     → 16.40\n",
      "  app_count__netflix   → 9.94\n",
      "  month_count__2       → 8.45\n",
      "\n",
      "Cluster #7 top 5 features (raw values):\n",
      "  age                  → 34.29\n",
      "  app_count__hulu      → 15.21\n",
      "  app_count__netflix   → 14.25\n",
      "  weekday_count__2     → 12.50\n",
      "  app_count__amazon_prime → 10.54\n",
      "\n",
      "Cluster #8 top 5 features (raw values):\n",
      "  age                  → 34.61\n",
      "  app_count__netflix   → 29.52\n",
      "  weekday_count__0     → 19.23\n",
      "  month_count__2       → 6.20\n",
      "  app_count__hulu      → 4.48\n",
      "\n",
      "Cluster #9 top 5 features (raw values):\n",
      "  age                  → 30.44\n",
      "  app_count__hulu      → 20.46\n",
      "  month_count__10      → 18.33\n",
      "  weekday_count__6     → 10.65\n",
      "  weekday_count__4     → 9.41\n",
      "\n",
      "Cluster #10 top 5 features (raw values):\n",
      "  age                  → 36.10\n",
      "  app_count__amazon_prime → 13.66\n",
      "  app_count__netflix   → 12.67\n",
      "  weekday_count__6     → 9.38\n",
      "  app_count__disney_plus → 8.95\n",
      "\n",
      "Cluster #11 top 5 features (raw values):\n",
      "  age                  → 29.71\n",
      "  app_count__hulu      → 20.88\n",
      "  month_count__10      → 14.71\n",
      "  app_count__netflix   → 7.41\n",
      "  weekday_count__5     → 7.24\n",
      "\n",
      "Cluster #12 top 5 features (raw values):\n",
      "  age                  → 44.00\n",
      "  app_count__hulu      → 40.00\n",
      "  weekday_count__2     → 25.00\n",
      "  weekday_count__1     → 10.00\n",
      "  month_count__11      → 9.00\n",
      "\n",
      "Cluster #13 top 5 features (raw values):\n",
      "  age                  → 35.17\n",
      "  app_count__hulu      → 22.89\n",
      "  weekday_count__2     → 14.61\n",
      "  app_count__netflix   → 11.11\n",
      "  weekday_count__1     → 10.61\n",
      "\n",
      "Cluster #14 top 5 features (raw values):\n",
      "  age                  → 30.21\n",
      "  app_count__hulu      → 21.91\n",
      "  month_count__10      → 19.23\n",
      "  app_count__netflix   → 12.58\n",
      "  weekday_count__2     → 7.26\n",
      "\n",
      "Cluster #15 top 5 features (raw values):\n",
      "  app_count__hulu      → 40.00\n",
      "  age                  → 30.00\n",
      "  month_count__10      → 22.00\n",
      "  weekday_count__2     → 11.00\n",
      "  weekday_count__3     → 9.00\n",
      "\n",
      "Cluster #16 top 5 features (raw values):\n",
      "  age                  → 31.99\n",
      "  app_count__hulu      → 17.72\n",
      "  app_count__netflix   → 11.59\n",
      "  weekday_count__2     → 8.40\n",
      "  app_count__amazon_prime → 8.12\n",
      "\n",
      "Cluster #17 top 5 features (raw values):\n",
      "  age                  → 33.63\n",
      "  app_count__hulu      → 18.33\n",
      "  app_count__netflix   → 10.53\n",
      "  weekday_count__2     → 9.79\n",
      "  app_count__amazon_prime → 8.65\n",
      "\n",
      "Cluster #18 top 5 features (raw values):\n",
      "  age                  → 31.32\n",
      "  app_count__netflix   → 19.27\n",
      "  weekday_count__6     → 12.90\n",
      "  weekday_count__5     → 12.63\n",
      "  app_count__disney_plus → 11.58\n",
      "\n",
      "Cluster #19 top 5 features (raw values):\n",
      "  age                  → 25.80\n",
      "  app_count__disney_plus → 16.12\n",
      "  app_count__hulu      → 14.60\n",
      "  weekday_count__5     → 10.84\n",
      "  weekday_count__6     → 10.80\n"
     ]
    }
   ],
   "source": [
    "import numpy as np\n",
    "\n",
    "for k in range(20):\n",
    "    # 7.1. Scaled centroid for cluster k:\n",
    "    cent_scaled = km_sub.cluster_centers_[k]\n",
    "    # 7.2. Inverse‐scale back to raw units:\n",
    "    cent_raw = scaler.inverse_transform(cent_scaled.reshape(1, -1)).flatten()\n",
    "    # 7.3. Sort features descending:\n",
    "    idx_desc = np.argsort(-cent_raw)\n",
    "    \n",
    "    print(f\"\\nCluster #{k} top 5 features (raw values):\")\n",
    "    for i in idx_desc[:5]:\n",
    "        print(f\"  {feature_cols[i]:<20} → {cent_raw[i]:.2f}\")\n"
   ]
  },
  {
   "cell_type": "markdown",
   "id": "96233d81-a742-4872-b98e-28c8f569ce53",
   "metadata": {},
   "source": [
    "# 8. (Optional) Build a simple recommendation helper"
   ]
  },
  {
   "cell_type": "code",
   "execution_count": 65,
   "id": "dea1886e-a1fc-4f39-bf19-3ee216138055",
   "metadata": {},
   "outputs": [
    {
     "name": "stdout",
     "output_type": "stream",
     "text": [
      "Top 5 recs for user_0001: [268, 10530, 2661, 7518, 9487]\n"
     ]
    }
   ],
   "source": [
    "# 8.1. Merge cluster labels back into userds\n",
    "clustered_interactions = userds.merge(user_cluster_birchkm, on=\"user_id\", how=\"left\")\n",
    "\n",
    "# 8.2. Precompute movie watch counts per cluster\n",
    "cluster_movie_counts = (\n",
    "    clustered_interactions\n",
    "    .groupby([\"cluster_label\", \"movie_id\"])\n",
    "    .size()\n",
    "    .reset_index(name=\"watch_count\")\n",
    "    .sort_values([\"cluster_label\", \"watch_count\"], ascending=[True, False])\n",
    ")\n",
    "\n",
    "# 8.3. Define a function to recommend top-N movies for a user\n",
    "def recommend_for_user(user_id, top_n=10):\n",
    "    c = user_cluster_birchkm.loc[user_cluster_birchkm[\"user_id\"] == user_id, \"cluster_label\"].item()\n",
    "    seen = set(userds.loc[userds[\"user_id\"] == user_id, \"movie_id\"])\n",
    "    recs = []\n",
    "    for row in cluster_movie_counts[cluster_movie_counts[\"cluster_label\"] == c].itertuples():\n",
    "        if row.movie_id not in seen:\n",
    "            recs.append(row.movie_id)\n",
    "        if len(recs) >= top_n:\n",
    "            break\n",
    "    return recs\n",
    "\n",
    "# Example: top 5 recommendations for user_0001\n",
    "print(\"Top 5 recs for user_0001:\", recommend_for_user(\"user_0001\", top_n=5))\n"
   ]
  },
  {
   "cell_type": "code",
   "execution_count": null,
   "id": "f376e87f-4ffb-4049-b1da-e0ed70c89fb3",
   "metadata": {},
   "outputs": [],
   "source": []
  }
 ],
 "metadata": {
  "kernelspec": {
   "display_name": "Python 3 (ipykernel)",
   "language": "python",
   "name": "python3"
  },
  "language_info": {
   "codemirror_mode": {
    "name": "ipython",
    "version": 3
   },
   "file_extension": ".py",
   "mimetype": "text/x-python",
   "name": "python",
   "nbconvert_exporter": "python",
   "pygments_lexer": "ipython3",
   "version": "3.11.0"
  }
 },
 "nbformat": 4,
 "nbformat_minor": 5
}
